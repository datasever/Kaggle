{
 "cells": [
  {
   "cell_type": "markdown",
   "id": "115b1e68",
   "metadata": {
    "papermill": {
     "duration": 0.028387,
     "end_time": "2022-02-24T11:32:29.928216",
     "exception": false,
     "start_time": "2022-02-24T11:32:29.899829",
     "status": "completed"
    },
    "tags": []
   },
   "source": [
    "# Titanic Competition Solutions\n",
    "\n",
    "## Datasets Description\n",
    "\n",
    "* **`PassengerId` :** A unique ID to each Passenger (**1-891**)\n",
    "* **`Survived` :** A boolean variable (**0** or **1**):\n",
    "    - **1 = Survived**\n",
    "    - **0 = Not Survived**\n",
    "* **`Pclass` :** Ticket Class\n",
    "    - **1 = 1st**\n",
    "    - **2 = 2nd**\n",
    "    - **3 = 3rd class**\n",
    "* **`Name`:** Passenger Name\n",
    "* **`Sex` :** Sex of Passenger\n",
    "* **`Age` :** Age in Years\n",
    "* **`SibSp` :** Number of Siblings / Spouses Aboard\n",
    "    - **Sibling = brother, sister, stepbrother, stepsister**\n",
    "    - **Spouse = husband, wife (mistresses and fiancés were ignored)**\n",
    "* **`Parch` :** Number of parents / children aboard the titanic\n",
    "    - **Parent = mother, father**\n",
    "    - **Child = daughter, son, stepdaughter, stepson**\n",
    "* **`Ticket` :** Ticket number\n",
    "* **`Fare` :** Passenger Fare\n",
    "* **`Cabin` :** Cabin number\n",
    "* **`Embarked` :** Port of Embarkation\n",
    "    - **C = Cherbourg**\n",
    "    - **Q = Queenstown**\n",
    "    - **S = Southampton**\n",
    "\n",
    "**Which features are categorical?**\n",
    "- **Categorical :** Survived, Sex and Embarked\n",
    "- **Ordinal:** Pclass\n",
    "\n",
    "**Which features are numerical?**\n",
    "- **Continous:** Age, Fare\n",
    "- **Discrete:** SibSp, Parch"
   ]
  },
  {
   "cell_type": "code",
   "execution_count": 1,
   "id": "ba1216a8",
   "metadata": {
    "_kg_hide-input": true,
    "execution": {
     "iopub.execute_input": "2022-02-24T11:32:30.015771Z",
     "iopub.status.busy": "2022-02-24T11:32:30.015097Z",
     "iopub.status.idle": "2022-02-24T11:32:30.021516Z",
     "shell.execute_reply": "2022-02-24T11:32:30.022064Z",
     "shell.execute_reply.started": "2022-02-24T11:31:52.326968Z"
    },
    "papermill": {
     "duration": 0.0583,
     "end_time": "2022-02-24T11:32:30.022339",
     "exception": false,
     "start_time": "2022-02-24T11:32:29.964039",
     "status": "completed"
    },
    "tags": []
   },
   "outputs": [
    {
     "data": {
      "text/html": [
       "\n",
       "<b> Amazing work; Titanic - Great loss of life by Simon Rowe <b>\n",
       "<div class='tableauPlaceholder' id='viz1516349898238' style='position: relative'><noscript><a href='#'><img alt='Titanic Training Dataset ' src='https:&#47;&#47;public.tableau.com&#47;static&#47;images&#47;Ti&#47;Titanic_data_mining&#47;Dashboard1&#47;1_rss.png' width=\"200\" height=\"300\" style='border: none' /></a></noscript><object class='tableauViz'  style='display:none;'><param name='host_url' value='https%3A%2F%2Fpublic.tableau.com%2F' /> <param name='embed_code_version' value='3' /> <param name='site_root' value='' /><param name='name' value='Titanic-Greatlossoflife&#47;MainDashboard' /><param name='tabs' value='no' /><param name='toolbar' value='yes' /><param name='static_image' value='https:&#47;&#47;public.tableau.com&#47;app&#47;profile&#47;simon.rowe&#47;viz&#47;Titanic-Greatlossoflife&#47;MainDashboard&#47;1.png'  /> <param name='animate_transition' value='yes' /><param name='display_static_image' value='yes' /><param name='display_spinner' value='yes' /><param name='display_overlay' value='yes' /><param name='display_count' value='yes' /><param name='filter' value='publish=yes' /></object></div>                <script type='text/javascript'>                    var divElement = document.getElementById('viz1516349898238');                    var vizElement = divElement.getElementsByTagName('object')[0];                    vizElement.style.width='100%';vizElement.style.height=(divElement.offsetWidth*0.75)+'px';                    var scriptElement = document.createElement('script');                    scriptElement.src = 'https://public.tableau.com/javascripts/api/viz_v1.js';                    vizElement.parentNode.insertBefore(scriptElement, vizElement);                </script>\n"
      ],
      "text/plain": [
       "<IPython.core.display.HTML object>"
      ]
     },
     "metadata": {},
     "output_type": "display_data"
    }
   ],
   "source": [
    "%%HTML\n",
    "\n",
    "<b> Amazing work; Titanic - Great loss of life by Simon Rowe <b>\n",
    "<div class='tableauPlaceholder' id='viz1516349898238' style='position: relative'><noscript><a href='#'><img alt='Titanic Training Dataset ' src='https:&#47;&#47;public.tableau.com&#47;static&#47;images&#47;Ti&#47;Titanic_data_mining&#47;Dashboard1&#47;1_rss.png' width=\"200\" height=\"300\" style='border: none' /></a></noscript><object class='tableauViz'  style='display:none;'><param name='host_url' value='https%3A%2F%2Fpublic.tableau.com%2F' /> <param name='embed_code_version' value='3' /> <param name='site_root' value='' /><param name='name' value='Titanic-Greatlossoflife&#47;MainDashboard' /><param name='tabs' value='no' /><param name='toolbar' value='yes' /><param name='static_image' value='https:&#47;&#47;public.tableau.com&#47;app&#47;profile&#47;simon.rowe&#47;viz&#47;Titanic-Greatlossoflife&#47;MainDashboard&#47;1.png'  /> <param name='animate_transition' value='yes' /><param name='display_static_image' value='yes' /><param name='display_spinner' value='yes' /><param name='display_overlay' value='yes' /><param name='display_count' value='yes' /><param name='filter' value='publish=yes' /></object></div>                <script type='text/javascript'>                    var divElement = document.getElementById('viz1516349898238');                    var vizElement = divElement.getElementsByTagName('object')[0];                    vizElement.style.width='100%';vizElement.style.height=(divElement.offsetWidth*0.75)+'px';                    var scriptElement = document.createElement('script');                    scriptElement.src = 'https://public.tableau.com/javascripts/api/viz_v1.js';                    vizElement.parentNode.insertBefore(scriptElement, vizElement);                </script>"
   ]
  },
  {
   "cell_type": "code",
   "execution_count": 2,
   "id": "4f1d1133",
   "metadata": {
    "_kg_hide-input": true,
    "_kg_hide-output": true,
    "execution": {
     "iopub.execute_input": "2022-02-24T11:32:30.108923Z",
     "iopub.status.busy": "2022-02-24T11:32:30.108178Z",
     "iopub.status.idle": "2022-02-24T11:32:32.767044Z",
     "shell.execute_reply": "2022-02-24T11:32:32.766389Z",
     "shell.execute_reply.started": "2022-02-18T09:30:28.25676Z"
    },
    "papermill": {
     "duration": 2.702212,
     "end_time": "2022-02-24T11:32:32.767177",
     "exception": false,
     "start_time": "2022-02-24T11:32:30.064965",
     "status": "completed"
    },
    "tags": []
   },
   "outputs": [
    {
     "name": "stderr",
     "output_type": "stream",
     "text": [
      "/opt/conda/lib/python3.7/site-packages/sklearn/utils/deprecation.py:143: FutureWarning: The sklearn.ensemble.gradient_boosting module is  deprecated in version 0.22 and will be removed in version 0.24. The corresponding classes / functions should instead be imported from sklearn.ensemble. Anything that cannot be imported from sklearn.ensemble is now part of the private API.\n",
      "  warnings.warn(message, FutureWarning)\n"
     ]
    }
   ],
   "source": [
    "import numpy as np \n",
    "import pandas as pd \n",
    "import matplotlib.pyplot as plt\n",
    "import seaborn as sns\n",
    "import plotly.express as px\n",
    "import requests\n",
    "import io\n",
    "import os\n",
    "import warnings\n",
    "import re\n",
    "from pandas.api.types import CategoricalDtype\n",
    "import missingno as msno\n",
    "\n",
    "from sklearn.pipeline import make_pipeline\n",
    "from sklearn.ensemble import RandomForestClassifier\n",
    "from sklearn.ensemble.gradient_boosting import GradientBoostingClassifier\n",
    "from sklearn.feature_selection import SelectKBest\n",
    "from sklearn.model_selection import StratifiedKFold\n",
    "from sklearn.model_selection import GridSearchCV\n",
    "from sklearn.model_selection import cross_val_score\n",
    "from sklearn.feature_selection import SelectFromModel\n",
    "from sklearn.linear_model import LogisticRegression, LogisticRegressionCV\n",
    "\n",
    "import warnings\n",
    "warnings.filterwarnings('ignore')\n",
    "\n",
    "orange_black = ['#fdc029', '#df861d', '#FF6347', '#aa3d01', '#a30e15', '#800000', '#171820']"
   ]
  },
  {
   "cell_type": "code",
   "execution_count": 3,
   "id": "cfb89b80",
   "metadata": {
    "_kg_hide-input": true,
    "execution": {
     "iopub.execute_input": "2022-02-24T11:32:32.857743Z",
     "iopub.status.busy": "2022-02-24T11:32:32.850489Z",
     "iopub.status.idle": "2022-02-24T11:32:32.869531Z",
     "shell.execute_reply": "2022-02-24T11:32:32.870061Z",
     "shell.execute_reply.started": "2022-02-18T09:30:31.152639Z"
    },
    "papermill": {
     "duration": 0.06269,
     "end_time": "2022-02-24T11:32:32.870225",
     "exception": false,
     "start_time": "2022-02-24T11:32:32.807535",
     "status": "completed"
    },
    "tags": []
   },
   "outputs": [],
   "source": [
    "#Helper function\n",
    "def eksik_deger_tablosu(df):\n",
    "    eksik_deger = df.isnull().sum()\n",
    "    eksik_deger_yüzde = 100*df.isnull().sum()/len(df)\n",
    "    eksik_deger_tablo = pd.concat([eksik_deger,eksik_deger_yüzde], axis=1)\n",
    "    eksik_deger_tablo_son = eksik_deger_tablo.rename(columns = {0: \"Eksik Gözlem\",\n",
    "                                                                1: \"% Değeri\"})\n",
    "    return eksik_deger_tablo_son\n",
    "#########################################################################################\n",
    "def eksik_deger_yuzde(df):\n",
    "    total_cells = np.product(df.shape)\n",
    "    missing_values_count = df.isnull().sum()\n",
    "    total_missing = missing_values_count.sum()\n",
    "    print(\"% of missing where data:\", (total_missing/total_cells) * 100)\n",
    "#########################################################################################\n",
    "def age_buckets(x):\n",
    "    if x<10:\n",
    "        return \"0-9\"\n",
    "    elif x<20:\n",
    "        return '10-19'\n",
    "    elif x < 30:\n",
    "        return '20-29' \n",
    "    elif x < 40: \n",
    "        return '30-39' \n",
    "    elif x < 50: \n",
    "        return '40-49' \n",
    "    elif x < 60: \n",
    "        return '50-59' \n",
    "    elif x < 70: \n",
    "        return '60-69' \n",
    "    elif x >=70: \n",
    "        return '70+' \n",
    "    else: \n",
    "        return 'other'\n",
    "######################################################################################### \n",
    "def sex_agegroup(df):\n",
    "    sex_agegroup_summary = df.groupby(['Sex','Age_Group'], as_index=False)['Survived'].mean()\n",
    "    return sex_agegroup_summary\n",
    "######################################################################################### \n",
    "def concat_df(train_data, test_data):\n",
    "    # Returns a concatenated df of training and test set\n",
    "    return pd.concat([train_data, test_data], sort=True).reset_index(drop=True)\n",
    "#########################################################################################\n",
    "def divide_df(all_data):\n",
    "    # Returns divided dfs of training and test set\n",
    "    return all_data.loc[:890], all_data.loc[891:].drop(['Survived'], axis=1)\n",
    "#########################################################################################\n",
    "def title_name (df):\n",
    "    for i in df:\n",
    "        df['Title'] = df.Name.str.extract(' ([A-Za-z]+)\\.', expand=False)\n",
    "        return pd.crosstab(df['Title'], df['Sex'])\n",
    "#########################################################################################\n",
    "def bar_chart(feature):\n",
    "    survived = train_data[train_data['Survived']==1][feature].value_counts()\n",
    "    died = train_data[train_data['Survived']==0][feature].value_counts()\n",
    "    df = pd.DataFrame([survived,died])\n",
    "    df.index = ['Survived','Died']\n",
    "    df.plot(kind='bar',stacked=True, figsize=(10,5))\n",
    "#########################################################################################\n",
    "def compute_score(clf, X, y, scoring='accuracy'):\n",
    "    xval = cross_val_score(clf, X, y, cv = 5, scoring=scoring)\n",
    "    return np.mean(xval)\n",
    "#########################################################################################\n",
    "def recover_train_test_target():\n",
    "    global combined\n",
    "    \n",
    "    targets = pd.read_csv('../input/titanic/train.csv', usecols=['Survived'])['Survived'].values\n",
    "    train = combined.iloc[:891]\n",
    "    test = combined.iloc[891:]\n",
    "    \n",
    "    return train, test, targets"
   ]
  },
  {
   "cell_type": "markdown",
   "id": "047a9753",
   "metadata": {
    "papermill": {
     "duration": 0.03922,
     "end_time": "2022-02-24T11:32:32.949021",
     "exception": false,
     "start_time": "2022-02-24T11:32:32.909801",
     "status": "completed"
    },
    "tags": []
   },
   "source": [
    "* Training set has **891** rows and test set has **418** rows\n",
    "* Training set has **12** features and test set has **11** features"
   ]
  },
  {
   "cell_type": "code",
   "execution_count": 4,
   "id": "189dac43",
   "metadata": {
    "_kg_hide-input": true,
    "execution": {
     "iopub.execute_input": "2022-02-24T11:32:33.031294Z",
     "iopub.status.busy": "2022-02-24T11:32:33.030442Z",
     "iopub.status.idle": "2022-02-24T11:32:33.104740Z",
     "shell.execute_reply": "2022-02-24T11:32:33.105213Z",
     "shell.execute_reply.started": "2022-02-18T09:30:31.177126Z"
    },
    "papermill": {
     "duration": 0.116788,
     "end_time": "2022-02-24T11:32:33.105398",
     "exception": false,
     "start_time": "2022-02-24T11:32:32.988610",
     "status": "completed"
    },
    "tags": []
   },
   "outputs": [
    {
     "name": "stdout",
     "output_type": "stream",
     "text": [
      "Training Shape =  (891, 13)\n",
      "Testing Shape =  (418, 12)\n",
      "All Data Shape =  (1309, 14)\n",
      "Train Data Columns Name =  Index(['PassengerId', 'Survived', 'Pclass', 'Name', 'Sex', 'Age', 'SibSp',\n",
      "       'Parch', 'Ticket', 'Fare', 'Cabin', 'Embarked', 'Age_Group'],\n",
      "      dtype='object')\n",
      "Test Data Columns Name =  Index(['PassengerId', 'Pclass', 'Name', 'Sex', 'Age', 'SibSp', 'Parch',\n",
      "       'Ticket', 'Fare', 'Cabin', 'Embarked', 'Age_Group'],\n",
      "      dtype='object')\n"
     ]
    }
   ],
   "source": [
    "train_data = pd.read_csv(\"../input/titanic/train.csv\")\n",
    "test_data = pd.read_csv(\"../input/titanic/test.csv\")\n",
    "train_data['Age_Group'] = train_data.Age.apply(age_buckets)\n",
    "test_data['Age_Group'] = test_data.Age.apply(age_buckets)\n",
    "\n",
    "df_all = concat_df(train_data, test_data)\n",
    "\n",
    "title_name(df_all)\n",
    "\n",
    "df_all['Title'] = df_all['Title'].replace('Mlle', 'Miss')\n",
    "df_all['Title'] = df_all['Title'].replace('Ms', 'Miss')\n",
    "df_all['Title'] = df_all['Title'].replace('Mme', 'Mrs')\n",
    "\n",
    "df_all['Title'] = df_all['Title'].replace(['Lady', 'Countess','Capt', 'Col','Don', 'Dr', 'Major', 'Rev', 'Sir', 'Jonkheer', 'Dona'], 'Other')\n",
    "\n",
    "df_num = train_data[['Age','SibSp','Parch','Fare']]\n",
    "df_cat = train_data[['Survived','Pclass','Sex','Ticket','Cabin','Embarked']]\n",
    "\n",
    "print(\"Training Shape = \",train_data.shape)\n",
    "print(\"Testing Shape = \",test_data.shape)\n",
    "print(\"All Data Shape = \",df_all.shape)\n",
    "print(\"Train Data Columns Name = \", train_data.columns )\n",
    "print(\"Test Data Columns Name = \", test_data.columns )"
   ]
  },
  {
   "cell_type": "code",
   "execution_count": 5,
   "id": "2b8290b8",
   "metadata": {
    "_kg_hide-input": true,
    "execution": {
     "iopub.execute_input": "2022-02-24T11:32:33.197820Z",
     "iopub.status.busy": "2022-02-24T11:32:33.197067Z",
     "iopub.status.idle": "2022-02-24T11:32:33.216322Z",
     "shell.execute_reply": "2022-02-24T11:32:33.215780Z",
     "shell.execute_reply.started": "2022-02-18T09:30:31.274975Z"
    },
    "papermill": {
     "duration": 0.071209,
     "end_time": "2022-02-24T11:32:33.216447",
     "exception": false,
     "start_time": "2022-02-24T11:32:33.145238",
     "status": "completed"
    },
    "tags": []
   },
   "outputs": [
    {
     "name": "stdout",
     "output_type": "stream",
     "text": [
      "<class 'pandas.core.frame.DataFrame'>\n",
      "RangeIndex: 891 entries, 0 to 890\n",
      "Data columns (total 13 columns):\n",
      " #   Column       Non-Null Count  Dtype  \n",
      "---  ------       --------------  -----  \n",
      " 0   PassengerId  891 non-null    int64  \n",
      " 1   Survived     891 non-null    int64  \n",
      " 2   Pclass       891 non-null    int64  \n",
      " 3   Name         891 non-null    object \n",
      " 4   Sex          891 non-null    object \n",
      " 5   Age          714 non-null    float64\n",
      " 6   SibSp        891 non-null    int64  \n",
      " 7   Parch        891 non-null    int64  \n",
      " 8   Ticket       891 non-null    object \n",
      " 9   Fare         891 non-null    float64\n",
      " 10  Cabin        204 non-null    object \n",
      " 11  Embarked     889 non-null    object \n",
      " 12  Age_Group    891 non-null    object \n",
      "dtypes: float64(2), int64(5), object(6)\n",
      "memory usage: 90.6+ KB\n"
     ]
    },
    {
     "data": {
      "text/html": [
       "<div>\n",
       "<style scoped>\n",
       "    .dataframe tbody tr th:only-of-type {\n",
       "        vertical-align: middle;\n",
       "    }\n",
       "\n",
       "    .dataframe tbody tr th {\n",
       "        vertical-align: top;\n",
       "    }\n",
       "\n",
       "    .dataframe thead th {\n",
       "        text-align: right;\n",
       "    }\n",
       "</style>\n",
       "<table border=\"1\" class=\"dataframe\">\n",
       "  <thead>\n",
       "    <tr style=\"text-align: right;\">\n",
       "      <th></th>\n",
       "      <th>PassengerId</th>\n",
       "      <th>Survived</th>\n",
       "      <th>Pclass</th>\n",
       "      <th>Name</th>\n",
       "      <th>Sex</th>\n",
       "      <th>Age</th>\n",
       "      <th>SibSp</th>\n",
       "      <th>Parch</th>\n",
       "      <th>Ticket</th>\n",
       "      <th>Fare</th>\n",
       "      <th>Cabin</th>\n",
       "      <th>Embarked</th>\n",
       "      <th>Age_Group</th>\n",
       "    </tr>\n",
       "  </thead>\n",
       "  <tbody>\n",
       "    <tr>\n",
       "      <th>0</th>\n",
       "      <td>1</td>\n",
       "      <td>0</td>\n",
       "      <td>3</td>\n",
       "      <td>Braund, Mr. Owen Harris</td>\n",
       "      <td>male</td>\n",
       "      <td>22.0</td>\n",
       "      <td>1</td>\n",
       "      <td>0</td>\n",
       "      <td>A/5 21171</td>\n",
       "      <td>7.2500</td>\n",
       "      <td>NaN</td>\n",
       "      <td>S</td>\n",
       "      <td>20-29</td>\n",
       "    </tr>\n",
       "    <tr>\n",
       "      <th>1</th>\n",
       "      <td>2</td>\n",
       "      <td>1</td>\n",
       "      <td>1</td>\n",
       "      <td>Cumings, Mrs. John Bradley (Florence Briggs Th...</td>\n",
       "      <td>female</td>\n",
       "      <td>38.0</td>\n",
       "      <td>1</td>\n",
       "      <td>0</td>\n",
       "      <td>PC 17599</td>\n",
       "      <td>71.2833</td>\n",
       "      <td>C85</td>\n",
       "      <td>C</td>\n",
       "      <td>30-39</td>\n",
       "    </tr>\n",
       "    <tr>\n",
       "      <th>2</th>\n",
       "      <td>3</td>\n",
       "      <td>1</td>\n",
       "      <td>3</td>\n",
       "      <td>Heikkinen, Miss. Laina</td>\n",
       "      <td>female</td>\n",
       "      <td>26.0</td>\n",
       "      <td>0</td>\n",
       "      <td>0</td>\n",
       "      <td>STON/O2. 3101282</td>\n",
       "      <td>7.9250</td>\n",
       "      <td>NaN</td>\n",
       "      <td>S</td>\n",
       "      <td>20-29</td>\n",
       "    </tr>\n",
       "    <tr>\n",
       "      <th>3</th>\n",
       "      <td>4</td>\n",
       "      <td>1</td>\n",
       "      <td>1</td>\n",
       "      <td>Futrelle, Mrs. Jacques Heath (Lily May Peel)</td>\n",
       "      <td>female</td>\n",
       "      <td>35.0</td>\n",
       "      <td>1</td>\n",
       "      <td>0</td>\n",
       "      <td>113803</td>\n",
       "      <td>53.1000</td>\n",
       "      <td>C123</td>\n",
       "      <td>S</td>\n",
       "      <td>30-39</td>\n",
       "    </tr>\n",
       "    <tr>\n",
       "      <th>4</th>\n",
       "      <td>5</td>\n",
       "      <td>0</td>\n",
       "      <td>3</td>\n",
       "      <td>Allen, Mr. William Henry</td>\n",
       "      <td>male</td>\n",
       "      <td>35.0</td>\n",
       "      <td>0</td>\n",
       "      <td>0</td>\n",
       "      <td>373450</td>\n",
       "      <td>8.0500</td>\n",
       "      <td>NaN</td>\n",
       "      <td>S</td>\n",
       "      <td>30-39</td>\n",
       "    </tr>\n",
       "  </tbody>\n",
       "</table>\n",
       "</div>"
      ],
      "text/plain": [
       "   PassengerId  Survived  Pclass  \\\n",
       "0            1         0       3   \n",
       "1            2         1       1   \n",
       "2            3         1       3   \n",
       "3            4         1       1   \n",
       "4            5         0       3   \n",
       "\n",
       "                                                Name     Sex   Age  SibSp  \\\n",
       "0                            Braund, Mr. Owen Harris    male  22.0      1   \n",
       "1  Cumings, Mrs. John Bradley (Florence Briggs Th...  female  38.0      1   \n",
       "2                             Heikkinen, Miss. Laina  female  26.0      0   \n",
       "3       Futrelle, Mrs. Jacques Heath (Lily May Peel)  female  35.0      1   \n",
       "4                           Allen, Mr. William Henry    male  35.0      0   \n",
       "\n",
       "   Parch            Ticket     Fare Cabin Embarked Age_Group  \n",
       "0      0         A/5 21171   7.2500   NaN        S     20-29  \n",
       "1      0          PC 17599  71.2833   C85        C     30-39  \n",
       "2      0  STON/O2. 3101282   7.9250   NaN        S     20-29  \n",
       "3      0            113803  53.1000  C123        S     30-39  \n",
       "4      0            373450   8.0500   NaN        S     30-39  "
      ]
     },
     "execution_count": 5,
     "metadata": {},
     "output_type": "execute_result"
    }
   ],
   "source": [
    "train_data.info()\n",
    "train_data.head()"
   ]
  },
  {
   "cell_type": "code",
   "execution_count": 6,
   "id": "e5a79fe1",
   "metadata": {
    "_kg_hide-input": true,
    "execution": {
     "iopub.execute_input": "2022-02-24T11:32:33.305308Z",
     "iopub.status.busy": "2022-02-24T11:32:33.301083Z",
     "iopub.status.idle": "2022-02-24T11:32:33.319135Z",
     "shell.execute_reply": "2022-02-24T11:32:33.319640Z",
     "shell.execute_reply.started": "2022-02-18T09:30:31.323497Z"
    },
    "papermill": {
     "duration": 0.063328,
     "end_time": "2022-02-24T11:32:33.319798",
     "exception": false,
     "start_time": "2022-02-24T11:32:33.256470",
     "status": "completed"
    },
    "tags": []
   },
   "outputs": [
    {
     "name": "stdout",
     "output_type": "stream",
     "text": [
      "<class 'pandas.core.frame.DataFrame'>\n",
      "RangeIndex: 418 entries, 0 to 417\n",
      "Data columns (total 12 columns):\n",
      " #   Column       Non-Null Count  Dtype  \n",
      "---  ------       --------------  -----  \n",
      " 0   PassengerId  418 non-null    int64  \n",
      " 1   Pclass       418 non-null    int64  \n",
      " 2   Name         418 non-null    object \n",
      " 3   Sex          418 non-null    object \n",
      " 4   Age          332 non-null    float64\n",
      " 5   SibSp        418 non-null    int64  \n",
      " 6   Parch        418 non-null    int64  \n",
      " 7   Ticket       418 non-null    object \n",
      " 8   Fare         417 non-null    float64\n",
      " 9   Cabin        91 non-null     object \n",
      " 10  Embarked     418 non-null    object \n",
      " 11  Age_Group    418 non-null    object \n",
      "dtypes: float64(2), int64(4), object(6)\n",
      "memory usage: 39.3+ KB\n"
     ]
    },
    {
     "data": {
      "text/html": [
       "<div>\n",
       "<style scoped>\n",
       "    .dataframe tbody tr th:only-of-type {\n",
       "        vertical-align: middle;\n",
       "    }\n",
       "\n",
       "    .dataframe tbody tr th {\n",
       "        vertical-align: top;\n",
       "    }\n",
       "\n",
       "    .dataframe thead th {\n",
       "        text-align: right;\n",
       "    }\n",
       "</style>\n",
       "<table border=\"1\" class=\"dataframe\">\n",
       "  <thead>\n",
       "    <tr style=\"text-align: right;\">\n",
       "      <th></th>\n",
       "      <th>PassengerId</th>\n",
       "      <th>Pclass</th>\n",
       "      <th>Name</th>\n",
       "      <th>Sex</th>\n",
       "      <th>Age</th>\n",
       "      <th>SibSp</th>\n",
       "      <th>Parch</th>\n",
       "      <th>Ticket</th>\n",
       "      <th>Fare</th>\n",
       "      <th>Cabin</th>\n",
       "      <th>Embarked</th>\n",
       "      <th>Age_Group</th>\n",
       "    </tr>\n",
       "  </thead>\n",
       "  <tbody>\n",
       "    <tr>\n",
       "      <th>0</th>\n",
       "      <td>892</td>\n",
       "      <td>3</td>\n",
       "      <td>Kelly, Mr. James</td>\n",
       "      <td>male</td>\n",
       "      <td>34.5</td>\n",
       "      <td>0</td>\n",
       "      <td>0</td>\n",
       "      <td>330911</td>\n",
       "      <td>7.8292</td>\n",
       "      <td>NaN</td>\n",
       "      <td>Q</td>\n",
       "      <td>30-39</td>\n",
       "    </tr>\n",
       "    <tr>\n",
       "      <th>1</th>\n",
       "      <td>893</td>\n",
       "      <td>3</td>\n",
       "      <td>Wilkes, Mrs. James (Ellen Needs)</td>\n",
       "      <td>female</td>\n",
       "      <td>47.0</td>\n",
       "      <td>1</td>\n",
       "      <td>0</td>\n",
       "      <td>363272</td>\n",
       "      <td>7.0000</td>\n",
       "      <td>NaN</td>\n",
       "      <td>S</td>\n",
       "      <td>40-49</td>\n",
       "    </tr>\n",
       "    <tr>\n",
       "      <th>2</th>\n",
       "      <td>894</td>\n",
       "      <td>2</td>\n",
       "      <td>Myles, Mr. Thomas Francis</td>\n",
       "      <td>male</td>\n",
       "      <td>62.0</td>\n",
       "      <td>0</td>\n",
       "      <td>0</td>\n",
       "      <td>240276</td>\n",
       "      <td>9.6875</td>\n",
       "      <td>NaN</td>\n",
       "      <td>Q</td>\n",
       "      <td>60-69</td>\n",
       "    </tr>\n",
       "    <tr>\n",
       "      <th>3</th>\n",
       "      <td>895</td>\n",
       "      <td>3</td>\n",
       "      <td>Wirz, Mr. Albert</td>\n",
       "      <td>male</td>\n",
       "      <td>27.0</td>\n",
       "      <td>0</td>\n",
       "      <td>0</td>\n",
       "      <td>315154</td>\n",
       "      <td>8.6625</td>\n",
       "      <td>NaN</td>\n",
       "      <td>S</td>\n",
       "      <td>20-29</td>\n",
       "    </tr>\n",
       "    <tr>\n",
       "      <th>4</th>\n",
       "      <td>896</td>\n",
       "      <td>3</td>\n",
       "      <td>Hirvonen, Mrs. Alexander (Helga E Lindqvist)</td>\n",
       "      <td>female</td>\n",
       "      <td>22.0</td>\n",
       "      <td>1</td>\n",
       "      <td>1</td>\n",
       "      <td>3101298</td>\n",
       "      <td>12.2875</td>\n",
       "      <td>NaN</td>\n",
       "      <td>S</td>\n",
       "      <td>20-29</td>\n",
       "    </tr>\n",
       "  </tbody>\n",
       "</table>\n",
       "</div>"
      ],
      "text/plain": [
       "   PassengerId  Pclass                                          Name     Sex  \\\n",
       "0          892       3                              Kelly, Mr. James    male   \n",
       "1          893       3              Wilkes, Mrs. James (Ellen Needs)  female   \n",
       "2          894       2                     Myles, Mr. Thomas Francis    male   \n",
       "3          895       3                              Wirz, Mr. Albert    male   \n",
       "4          896       3  Hirvonen, Mrs. Alexander (Helga E Lindqvist)  female   \n",
       "\n",
       "    Age  SibSp  Parch   Ticket     Fare Cabin Embarked Age_Group  \n",
       "0  34.5      0      0   330911   7.8292   NaN        Q     30-39  \n",
       "1  47.0      1      0   363272   7.0000   NaN        S     40-49  \n",
       "2  62.0      0      0   240276   9.6875   NaN        Q     60-69  \n",
       "3  27.0      0      0   315154   8.6625   NaN        S     20-29  \n",
       "4  22.0      1      1  3101298  12.2875   NaN        S     20-29  "
      ]
     },
     "execution_count": 6,
     "metadata": {},
     "output_type": "execute_result"
    }
   ],
   "source": [
    "test_data.info()\n",
    "test_data.head()"
   ]
  },
  {
   "cell_type": "code",
   "execution_count": 7,
   "id": "54dda300",
   "metadata": {
    "_kg_hide-input": true,
    "execution": {
     "iopub.execute_input": "2022-02-24T11:32:33.408782Z",
     "iopub.status.busy": "2022-02-24T11:32:33.406047Z",
     "iopub.status.idle": "2022-02-24T11:32:33.437324Z",
     "shell.execute_reply": "2022-02-24T11:32:33.436705Z",
     "shell.execute_reply.started": "2022-02-18T09:30:31.361828Z"
    },
    "papermill": {
     "duration": 0.075723,
     "end_time": "2022-02-24T11:32:33.437450",
     "exception": false,
     "start_time": "2022-02-24T11:32:33.361727",
     "status": "completed"
    },
    "tags": []
   },
   "outputs": [
    {
     "data": {
      "text/html": [
       "<div>\n",
       "<style scoped>\n",
       "    .dataframe tbody tr th:only-of-type {\n",
       "        vertical-align: middle;\n",
       "    }\n",
       "\n",
       "    .dataframe tbody tr th {\n",
       "        vertical-align: top;\n",
       "    }\n",
       "\n",
       "    .dataframe thead th {\n",
       "        text-align: right;\n",
       "    }\n",
       "</style>\n",
       "<table border=\"1\" class=\"dataframe\">\n",
       "  <thead>\n",
       "    <tr style=\"text-align: right;\">\n",
       "      <th></th>\n",
       "      <th>count</th>\n",
       "      <th>mean</th>\n",
       "      <th>std</th>\n",
       "      <th>min</th>\n",
       "      <th>25%</th>\n",
       "      <th>50%</th>\n",
       "      <th>75%</th>\n",
       "      <th>max</th>\n",
       "    </tr>\n",
       "  </thead>\n",
       "  <tbody>\n",
       "    <tr>\n",
       "      <th>PassengerId</th>\n",
       "      <td>891.0</td>\n",
       "      <td>446.000000</td>\n",
       "      <td>257.353842</td>\n",
       "      <td>1.00</td>\n",
       "      <td>223.5000</td>\n",
       "      <td>446.0000</td>\n",
       "      <td>668.5</td>\n",
       "      <td>891.0000</td>\n",
       "    </tr>\n",
       "    <tr>\n",
       "      <th>Survived</th>\n",
       "      <td>891.0</td>\n",
       "      <td>0.383838</td>\n",
       "      <td>0.486592</td>\n",
       "      <td>0.00</td>\n",
       "      <td>0.0000</td>\n",
       "      <td>0.0000</td>\n",
       "      <td>1.0</td>\n",
       "      <td>1.0000</td>\n",
       "    </tr>\n",
       "    <tr>\n",
       "      <th>Pclass</th>\n",
       "      <td>891.0</td>\n",
       "      <td>2.308642</td>\n",
       "      <td>0.836071</td>\n",
       "      <td>1.00</td>\n",
       "      <td>2.0000</td>\n",
       "      <td>3.0000</td>\n",
       "      <td>3.0</td>\n",
       "      <td>3.0000</td>\n",
       "    </tr>\n",
       "    <tr>\n",
       "      <th>Age</th>\n",
       "      <td>714.0</td>\n",
       "      <td>29.699118</td>\n",
       "      <td>14.526497</td>\n",
       "      <td>0.42</td>\n",
       "      <td>20.1250</td>\n",
       "      <td>28.0000</td>\n",
       "      <td>38.0</td>\n",
       "      <td>80.0000</td>\n",
       "    </tr>\n",
       "    <tr>\n",
       "      <th>SibSp</th>\n",
       "      <td>891.0</td>\n",
       "      <td>0.523008</td>\n",
       "      <td>1.102743</td>\n",
       "      <td>0.00</td>\n",
       "      <td>0.0000</td>\n",
       "      <td>0.0000</td>\n",
       "      <td>1.0</td>\n",
       "      <td>8.0000</td>\n",
       "    </tr>\n",
       "    <tr>\n",
       "      <th>Parch</th>\n",
       "      <td>891.0</td>\n",
       "      <td>0.381594</td>\n",
       "      <td>0.806057</td>\n",
       "      <td>0.00</td>\n",
       "      <td>0.0000</td>\n",
       "      <td>0.0000</td>\n",
       "      <td>0.0</td>\n",
       "      <td>6.0000</td>\n",
       "    </tr>\n",
       "    <tr>\n",
       "      <th>Fare</th>\n",
       "      <td>891.0</td>\n",
       "      <td>32.204208</td>\n",
       "      <td>49.693429</td>\n",
       "      <td>0.00</td>\n",
       "      <td>7.9104</td>\n",
       "      <td>14.4542</td>\n",
       "      <td>31.0</td>\n",
       "      <td>512.3292</td>\n",
       "    </tr>\n",
       "  </tbody>\n",
       "</table>\n",
       "</div>"
      ],
      "text/plain": [
       "             count        mean         std   min       25%       50%    75%  \\\n",
       "PassengerId  891.0  446.000000  257.353842  1.00  223.5000  446.0000  668.5   \n",
       "Survived     891.0    0.383838    0.486592  0.00    0.0000    0.0000    1.0   \n",
       "Pclass       891.0    2.308642    0.836071  1.00    2.0000    3.0000    3.0   \n",
       "Age          714.0   29.699118   14.526497  0.42   20.1250   28.0000   38.0   \n",
       "SibSp        891.0    0.523008    1.102743  0.00    0.0000    0.0000    1.0   \n",
       "Parch        891.0    0.381594    0.806057  0.00    0.0000    0.0000    0.0   \n",
       "Fare         891.0   32.204208   49.693429  0.00    7.9104   14.4542   31.0   \n",
       "\n",
       "                  max  \n",
       "PassengerId  891.0000  \n",
       "Survived       1.0000  \n",
       "Pclass         3.0000  \n",
       "Age           80.0000  \n",
       "SibSp          8.0000  \n",
       "Parch          6.0000  \n",
       "Fare         512.3292  "
      ]
     },
     "execution_count": 7,
     "metadata": {},
     "output_type": "execute_result"
    }
   ],
   "source": [
    "train_data.describe().T"
   ]
  },
  {
   "cell_type": "code",
   "execution_count": 8,
   "id": "dec7665b",
   "metadata": {
    "_kg_hide-input": true,
    "execution": {
     "iopub.execute_input": "2022-02-24T11:32:33.529749Z",
     "iopub.status.busy": "2022-02-24T11:32:33.529126Z",
     "iopub.status.idle": "2022-02-24T11:32:33.541711Z",
     "shell.execute_reply": "2022-02-24T11:32:33.542291Z",
     "shell.execute_reply.started": "2022-02-18T09:30:31.414292Z"
    },
    "papermill": {
     "duration": 0.062854,
     "end_time": "2022-02-24T11:32:33.542434",
     "exception": false,
     "start_time": "2022-02-24T11:32:33.479580",
     "status": "completed"
    },
    "tags": []
   },
   "outputs": [
    {
     "data": {
      "text/html": [
       "<div>\n",
       "<style scoped>\n",
       "    .dataframe tbody tr th:only-of-type {\n",
       "        vertical-align: middle;\n",
       "    }\n",
       "\n",
       "    .dataframe tbody tr th {\n",
       "        vertical-align: top;\n",
       "    }\n",
       "\n",
       "    .dataframe thead th {\n",
       "        text-align: right;\n",
       "    }\n",
       "</style>\n",
       "<table border=\"1\" class=\"dataframe\">\n",
       "  <thead>\n",
       "    <tr style=\"text-align: right;\">\n",
       "      <th></th>\n",
       "      <th>count</th>\n",
       "      <th>unique</th>\n",
       "      <th>top</th>\n",
       "      <th>freq</th>\n",
       "    </tr>\n",
       "  </thead>\n",
       "  <tbody>\n",
       "    <tr>\n",
       "      <th>Name</th>\n",
       "      <td>891</td>\n",
       "      <td>891</td>\n",
       "      <td>Braund, Mr. Owen Harris</td>\n",
       "      <td>1</td>\n",
       "    </tr>\n",
       "    <tr>\n",
       "      <th>Sex</th>\n",
       "      <td>891</td>\n",
       "      <td>2</td>\n",
       "      <td>male</td>\n",
       "      <td>577</td>\n",
       "    </tr>\n",
       "    <tr>\n",
       "      <th>Ticket</th>\n",
       "      <td>891</td>\n",
       "      <td>681</td>\n",
       "      <td>347082</td>\n",
       "      <td>7</td>\n",
       "    </tr>\n",
       "    <tr>\n",
       "      <th>Cabin</th>\n",
       "      <td>204</td>\n",
       "      <td>147</td>\n",
       "      <td>B96 B98</td>\n",
       "      <td>4</td>\n",
       "    </tr>\n",
       "    <tr>\n",
       "      <th>Embarked</th>\n",
       "      <td>889</td>\n",
       "      <td>3</td>\n",
       "      <td>S</td>\n",
       "      <td>644</td>\n",
       "    </tr>\n",
       "    <tr>\n",
       "      <th>Age_Group</th>\n",
       "      <td>891</td>\n",
       "      <td>9</td>\n",
       "      <td>20-29</td>\n",
       "      <td>220</td>\n",
       "    </tr>\n",
       "  </tbody>\n",
       "</table>\n",
       "</div>"
      ],
      "text/plain": [
       "          count unique                      top freq\n",
       "Name        891    891  Braund, Mr. Owen Harris    1\n",
       "Sex         891      2                     male  577\n",
       "Ticket      891    681                   347082    7\n",
       "Cabin       204    147                  B96 B98    4\n",
       "Embarked    889      3                        S  644\n",
       "Age_Group   891      9                    20-29  220"
      ]
     },
     "execution_count": 8,
     "metadata": {},
     "output_type": "execute_result"
    }
   ],
   "source": [
    "train_data.describe(include=['O']).T"
   ]
  },
  {
   "cell_type": "markdown",
   "id": "90e8bb57",
   "metadata": {
    "papermill": {
     "duration": 0.041335,
     "end_time": "2022-02-24T11:32:33.625326",
     "exception": false,
     "start_time": "2022-02-24T11:32:33.583991",
     "status": "completed"
    },
    "tags": []
   },
   "source": [
    "**Histogram plots of numerical variables.** \n",
    "\n",
    "It can be said that the age variable shows a more normal distribution."
   ]
  },
  {
   "cell_type": "code",
   "execution_count": 9,
   "id": "364cba80",
   "metadata": {
    "_kg_hide-input": true,
    "execution": {
     "iopub.execute_input": "2022-02-24T11:32:33.711743Z",
     "iopub.status.busy": "2022-02-24T11:32:33.710828Z",
     "iopub.status.idle": "2022-02-24T11:32:34.372921Z",
     "shell.execute_reply": "2022-02-24T11:32:34.373319Z",
     "shell.execute_reply.started": "2022-02-18T09:30:31.446464Z"
    },
    "papermill": {
     "duration": 0.706584,
     "end_time": "2022-02-24T11:32:34.373452",
     "exception": false,
     "start_time": "2022-02-24T11:32:33.666868",
     "status": "completed"
    },
    "tags": []
   },
   "outputs": [
    {
     "data": {
      "image/png": "[encoded data removed]",
      "text/plain": [
       "<Figure size 432x288 with 1 Axes>"
      ]
     },
     "metadata": {
      "needs_background": "light"
     },
     "output_type": "display_data"
    },
    {
     "data": {
      "image/png": "[encoded data removed]",
      "text/plain": [
       "<Figure size 432x288 with 1 Axes>"
      ]
     },
     "metadata": {
      "needs_background": "light"
     },
     "output_type": "display_data"
    },
    {
     "data": {
      "image/png": "[encoded data removed]",
      "text/plain": [
       "<Figure size 432x288 with 1 Axes>"
      ]
     },
     "metadata": {
      "needs_background": "light"
     },
     "output_type": "display_data"
    },
    {
     "data": {
      "image/png": "[encoded data removed]",
      "text/plain": [
       "<Figure size 432x288 with 1 Axes>"
      ]
     },
     "metadata": {
      "needs_background": "light"
     },
     "output_type": "display_data"
    }
   ],
   "source": [
    "for i in df_num.columns:\n",
    "    plt.hist(df_num[i])\n",
    "    plt.title(i)\n",
    "    plt.show()"
   ]
  },
  {
   "cell_type": "markdown",
   "id": "1dd5cafa",
   "metadata": {
    "papermill": {
     "duration": 0.029536,
     "end_time": "2022-02-24T11:32:34.432885",
     "exception": false,
     "start_time": "2022-02-24T11:32:34.403349",
     "status": "completed"
    },
    "tags": []
   },
   "source": [
    "**Histogram plots of categorical variables.**"
   ]
  },
  {
   "cell_type": "code",
   "execution_count": 10,
   "id": "896199c2",
   "metadata": {
    "_kg_hide-input": true,
    "execution": {
     "iopub.execute_input": "2022-02-24T11:32:34.494829Z",
     "iopub.status.busy": "2022-02-24T11:32:34.494390Z",
     "iopub.status.idle": "2022-02-24T11:32:34.936941Z",
     "shell.execute_reply": "2022-02-24T11:32:34.937553Z",
     "shell.execute_reply.started": "2022-02-18T09:30:32.512457Z"
    },
    "papermill": {
     "duration": 0.474719,
     "end_time": "2022-02-24T11:32:34.937747",
     "exception": false,
     "start_time": "2022-02-24T11:32:34.463028",
     "status": "completed"
    },
    "tags": []
   },
   "outputs": [
    {
     "data": {
      "image/png": "[encoded data removed]",
      "text/plain": [
       "<Figure size 432x288 with 1 Axes>"
      ]
     },
     "metadata": {
      "needs_background": "light"
     },
     "output_type": "display_data"
    },
    {
     "data": {
      "image/png": "[encoded data removed]",
      "text/plain": [
       "<Figure size 432x288 with 1 Axes>"
      ]
     },
     "metadata": {
      "needs_background": "light"
     },
     "output_type": "display_data"
    },
    {
     "data": {
      "image/png": "[encoded data removed]",
      "text/plain": [
       "<Figure size 432x288 with 1 Axes>"
      ]
     },
     "metadata": {
      "needs_background": "light"
     },
     "output_type": "display_data"
    },
    {
     "data": {
      "image/png": "[encoded data removed]",
      "text/plain": [
       "<Figure size 432x288 with 1 Axes>"
      ]
     },
     "metadata": {
      "needs_background": "light"
     },
     "output_type": "display_data"
    }
   ],
   "source": [
    "df_cat2 = train_data[['Survived','Pclass','Sex','Embarked']]\n",
    "for i in df_cat2.columns:\n",
    "    sns.barplot(df_cat2[i].value_counts().index,df_cat2[i].value_counts()).set_title(i)\n",
    "    plt.show()"
   ]
  },
  {
   "cell_type": "code",
   "execution_count": 11,
   "id": "8d2425dc",
   "metadata": {
    "_kg_hide-input": true,
    "execution": {
     "iopub.execute_input": "2022-02-24T11:32:35.042919Z",
     "iopub.status.busy": "2022-02-24T11:32:35.042341Z",
     "iopub.status.idle": "2022-02-24T11:32:35.231060Z",
     "shell.execute_reply": "2022-02-24T11:32:35.231451Z",
     "shell.execute_reply.started": "2022-02-18T09:30:33.315426Z"
    },
    "papermill": {
     "duration": 0.239015,
     "end_time": "2022-02-24T11:32:35.231592",
     "exception": false,
     "start_time": "2022-02-24T11:32:34.992577",
     "status": "completed"
    },
    "tags": []
   },
   "outputs": [
    {
     "data": {
      "image/png": "[encoded data removed]",
      "text/plain": [
       "<Figure size 720x360 with 1 Axes>"
      ]
     },
     "metadata": {
      "needs_background": "light"
     },
     "output_type": "display_data"
    }
   ],
   "source": [
    "bar_chart(\"Sex\")"
   ]
  },
  {
   "cell_type": "code",
   "execution_count": 12,
   "id": "5a0549d5",
   "metadata": {
    "_kg_hide-input": true,
    "execution": {
     "iopub.execute_input": "2022-02-24T11:32:35.303077Z",
     "iopub.status.busy": "2022-02-24T11:32:35.302579Z",
     "iopub.status.idle": "2022-02-24T11:32:35.463305Z",
     "shell.execute_reply": "2022-02-24T11:32:35.463754Z",
     "shell.execute_reply.started": "2022-02-18T09:30:33.593219Z"
    },
    "papermill": {
     "duration": 0.199177,
     "end_time": "2022-02-24T11:32:35.463880",
     "exception": false,
     "start_time": "2022-02-24T11:32:35.264703",
     "status": "completed"
    },
    "tags": []
   },
   "outputs": [
    {
     "data": {
      "image/png": "[encoded data removed]",
      "text/plain": [
       "<Figure size 720x360 with 1 Axes>"
      ]
     },
     "metadata": {
      "needs_background": "light"
     },
     "output_type": "display_data"
    }
   ],
   "source": [
    "bar_chart(\"Pclass\")"
   ]
  },
  {
   "cell_type": "code",
   "execution_count": 13,
   "id": "6ff1fa69",
   "metadata": {
    "_kg_hide-input": true,
    "execution": {
     "iopub.execute_input": "2022-02-24T11:32:35.533682Z",
     "iopub.status.busy": "2022-02-24T11:32:35.533216Z",
     "iopub.status.idle": "2022-02-24T11:32:35.804321Z",
     "shell.execute_reply": "2022-02-24T11:32:35.803901Z",
     "shell.execute_reply.started": "2022-02-18T09:30:33.885429Z"
    },
    "papermill": {
     "duration": 0.30632,
     "end_time": "2022-02-24T11:32:35.804433",
     "exception": false,
     "start_time": "2022-02-24T11:32:35.498113",
     "status": "completed"
    },
    "tags": []
   },
   "outputs": [
    {
     "data": {
      "image/png": "[encoded data removed]",
      "text/plain": [
       "<Figure size 720x360 with 1 Axes>"
      ]
     },
     "metadata": {
      "needs_background": "light"
     },
     "output_type": "display_data"
    }
   ],
   "source": [
    "bar_chart('Embarked')"
   ]
  },
  {
   "cell_type": "markdown",
   "id": "6a694783",
   "metadata": {
    "papermill": {
     "duration": 0.034069,
     "end_time": "2022-02-24T11:32:35.873374",
     "exception": false,
     "start_time": "2022-02-24T11:32:35.839305",
     "status": "completed"
    },
    "tags": []
   },
   "source": [
    "There is a positive relationship between SibSp and Parch variables."
   ]
  },
  {
   "cell_type": "code",
   "execution_count": 14,
   "id": "24f1e139",
   "metadata": {
    "_kg_hide-input": true,
    "execution": {
     "iopub.execute_input": "2022-02-24T11:32:35.944984Z",
     "iopub.status.busy": "2022-02-24T11:32:35.944518Z",
     "iopub.status.idle": "2022-02-24T11:32:36.167138Z",
     "shell.execute_reply": "2022-02-24T11:32:36.167511Z",
     "shell.execute_reply.started": "2022-02-18T09:30:34.31033Z"
    },
    "papermill": {
     "duration": 0.259959,
     "end_time": "2022-02-24T11:32:36.167646",
     "exception": false,
     "start_time": "2022-02-24T11:32:35.907687",
     "status": "completed"
    },
    "tags": []
   },
   "outputs": [
    {
     "data": {
      "image/png": "[encoded data removed]",
      "text/plain": [
       "<Figure size 432x288 with 2 Axes>"
      ]
     },
     "metadata": {
      "needs_background": "light"
     },
     "output_type": "display_data"
    }
   ],
   "source": [
    "sns.heatmap(df_num.corr(), annot = True);"
   ]
  },
  {
   "cell_type": "markdown",
   "id": "d03151a7",
   "metadata": {
    "papermill": {
     "duration": 0.034763,
     "end_time": "2022-02-24T11:32:36.237487",
     "exception": false,
     "start_time": "2022-02-24T11:32:36.202724",
     "status": "completed"
    },
    "tags": []
   },
   "source": [
    "**Of the survivors:**\n",
    "\n",
    "* average age 28, \n",
    "* average fare 48.395408"
   ]
  },
  {
   "cell_type": "code",
   "execution_count": 15,
   "id": "dcc80ab2",
   "metadata": {
    "_kg_hide-input": true,
    "execution": {
     "iopub.execute_input": "2022-02-24T11:32:36.310782Z",
     "iopub.status.busy": "2022-02-24T11:32:36.310341Z",
     "iopub.status.idle": "2022-02-24T11:32:36.329655Z",
     "shell.execute_reply": "2022-02-24T11:32:36.330100Z",
     "shell.execute_reply.started": "2022-02-18T09:30:34.674503Z"
    },
    "papermill": {
     "duration": 0.05734,
     "end_time": "2022-02-24T11:32:36.330225",
     "exception": false,
     "start_time": "2022-02-24T11:32:36.272885",
     "status": "completed"
    },
    "tags": []
   },
   "outputs": [
    {
     "data": {
      "text/html": [
       "<div>\n",
       "<style scoped>\n",
       "    .dataframe tbody tr th:only-of-type {\n",
       "        vertical-align: middle;\n",
       "    }\n",
       "\n",
       "    .dataframe tbody tr th {\n",
       "        vertical-align: top;\n",
       "    }\n",
       "\n",
       "    .dataframe thead th {\n",
       "        text-align: right;\n",
       "    }\n",
       "</style>\n",
       "<table border=\"1\" class=\"dataframe\">\n",
       "  <thead>\n",
       "    <tr style=\"text-align: right;\">\n",
       "      <th></th>\n",
       "      <th>Age</th>\n",
       "      <th>Fare</th>\n",
       "      <th>Parch</th>\n",
       "      <th>SibSp</th>\n",
       "    </tr>\n",
       "    <tr>\n",
       "      <th>Survived</th>\n",
       "      <th></th>\n",
       "      <th></th>\n",
       "      <th></th>\n",
       "      <th></th>\n",
       "    </tr>\n",
       "  </thead>\n",
       "  <tbody>\n",
       "    <tr>\n",
       "      <th>0</th>\n",
       "      <td>30.626179</td>\n",
       "      <td>22.117887</td>\n",
       "      <td>0.329690</td>\n",
       "      <td>0.553734</td>\n",
       "    </tr>\n",
       "    <tr>\n",
       "      <th>1</th>\n",
       "      <td>28.343690</td>\n",
       "      <td>48.395408</td>\n",
       "      <td>0.464912</td>\n",
       "      <td>0.473684</td>\n",
       "    </tr>\n",
       "  </tbody>\n",
       "</table>\n",
       "</div>"
      ],
      "text/plain": [
       "                Age       Fare     Parch     SibSp\n",
       "Survived                                          \n",
       "0         30.626179  22.117887  0.329690  0.553734\n",
       "1         28.343690  48.395408  0.464912  0.473684"
      ]
     },
     "execution_count": 15,
     "metadata": {},
     "output_type": "execute_result"
    }
   ],
   "source": [
    "pd.pivot_table(train_data, index = 'Survived', values = ['Age','SibSp','Parch','Fare'])"
   ]
  },
  {
   "cell_type": "markdown",
   "id": "c49c6d95",
   "metadata": {
    "papermill": {
     "duration": 0.034637,
     "end_time": "2022-02-24T11:32:36.400781",
     "exception": false,
     "start_time": "2022-02-24T11:32:36.366144",
     "status": "completed"
    },
    "tags": []
   },
   "source": [
    "* There are missing values on Age, Cabin and Embarked in the train data.\n",
    "* There are missing values on Age, Cabin and Fare in the test data."
   ]
  },
  {
   "cell_type": "code",
   "execution_count": 16,
   "id": "a6fe1d6b",
   "metadata": {
    "_kg_hide-input": true,
    "execution": {
     "iopub.execute_input": "2022-02-24T11:32:36.476590Z",
     "iopub.status.busy": "2022-02-24T11:32:36.472857Z",
     "iopub.status.idle": "2022-02-24T11:32:37.188298Z",
     "shell.execute_reply": "2022-02-24T11:32:37.187593Z",
     "shell.execute_reply.started": "2022-02-18T09:30:34.705602Z"
    },
    "papermill": {
     "duration": 0.753173,
     "end_time": "2022-02-24T11:32:37.188425",
     "exception": false,
     "start_time": "2022-02-24T11:32:36.435252",
     "status": "completed"
    },
    "tags": []
   },
   "outputs": [
    {
     "name": "stdout",
     "output_type": "stream",
     "text": [
      "% of missing where data: 7.47647414314081\n"
     ]
    },
    {
     "data": {
      "image/png": "[encoded data removed]",
      "text/plain": [
       "<Figure size 1728x720 with 3 Axes>"
      ]
     },
     "metadata": {},
     "output_type": "display_data"
    }
   ],
   "source": [
    "eksik_deger_yuzde(train_data)\n",
    "\n",
    "plt.style.use('ggplot')\n",
    "\n",
    "msno.bar(train_data, color=(orange_black[1]))\n",
    "\n",
    "plt.title('Missing Values', fontsize=24)\n",
    "\n",
    "plt.show()"
   ]
  },
  {
   "cell_type": "code",
   "execution_count": 17,
   "id": "ec5adc09",
   "metadata": {
    "_kg_hide-input": true,
    "execution": {
     "iopub.execute_input": "2022-02-24T11:32:37.273011Z",
     "iopub.status.busy": "2022-02-24T11:32:37.270564Z",
     "iopub.status.idle": "2022-02-24T11:32:37.826199Z",
     "shell.execute_reply": "2022-02-24T11:32:37.826821Z",
     "shell.execute_reply.started": "2022-02-18T09:30:35.965922Z"
    },
    "papermill": {
     "duration": 0.599904,
     "end_time": "2022-02-24T11:32:37.827008",
     "exception": false,
     "start_time": "2022-02-24T11:32:37.227104",
     "status": "completed"
    },
    "tags": []
   },
   "outputs": [
    {
     "name": "stdout",
     "output_type": "stream",
     "text": [
      "% of missing where data: 8.253588516746412\n"
     ]
    },
    {
     "data": {
      "image/png": "[encoded data removed]",
      "text/plain": [
       "<Figure size 1728x720 with 3 Axes>"
      ]
     },
     "metadata": {},
     "output_type": "display_data"
    }
   ],
   "source": [
    "eksik_deger_yuzde(test_data)\n",
    "\n",
    "msno.bar(test_data, color=(orange_black[1]))\n",
    "\n",
    "plt.title('Missing Values', fontsize=24)\n",
    "\n",
    "plt.show()"
   ]
  },
  {
   "cell_type": "code",
   "execution_count": 18,
   "id": "7005c56e",
   "metadata": {
    "_kg_hide-input": true,
    "execution": {
     "iopub.execute_input": "2022-02-24T11:32:37.951290Z",
     "iopub.status.busy": "2022-02-24T11:32:37.950678Z",
     "iopub.status.idle": "2022-02-24T11:32:37.954801Z",
     "shell.execute_reply": "2022-02-24T11:32:37.955299Z",
     "shell.execute_reply.started": "2022-02-18T09:30:37.153692Z"
    },
    "papermill": {
     "duration": 0.064965,
     "end_time": "2022-02-24T11:32:37.955442",
     "exception": false,
     "start_time": "2022-02-24T11:32:37.890477",
     "status": "completed"
    },
    "tags": []
   },
   "outputs": [],
   "source": [
    "df_all[\"Age\"].fillna(df_all.groupby(['Sex','Pclass'])[\"Age\"].transform(\"median\"), inplace=True)\n",
    "df_all[\"Embarked\"].fillna(\"S\", inplace = True)\n",
    "df_all[\"Fare\"].fillna(df_all.groupby(['Pclass'])[\"Fare\"].transform(\"median\"), inplace=True)"
   ]
  },
  {
   "cell_type": "markdown",
   "id": "b5978903",
   "metadata": {
    "papermill": {
     "duration": 0.055108,
     "end_time": "2022-02-24T11:32:38.065854",
     "exception": false,
     "start_time": "2022-02-24T11:32:38.010746",
     "status": "completed"
    },
    "tags": []
   },
   "source": [
    "### Did passenger class made any difference to his survival?\n",
    "* Of the 1st class passengers 136 survived and 80 died\n",
    "* Of the 2nd class passengers 87 survived and 97 died\n",
    "* Of the 3rd class passengers 119 survived and 372 died\n",
    "* If attention is paid, death is higher in 3rd class passengers. This is because, sank from the bow of the ship where third class rooms located conclusion."
   ]
  },
  {
   "cell_type": "code",
   "execution_count": 19,
   "id": "e5946af5",
   "metadata": {
    "_kg_hide-input": true,
    "execution": {
     "iopub.execute_input": "2022-02-24T11:32:38.173070Z",
     "iopub.status.busy": "2022-02-24T11:32:38.172464Z",
     "iopub.status.idle": "2022-02-24T11:32:38.217631Z",
     "shell.execute_reply": "2022-02-24T11:32:38.218123Z",
     "shell.execute_reply.started": "2022-02-18T09:30:37.183481Z"
    },
    "papermill": {
     "duration": 0.097264,
     "end_time": "2022-02-24T11:32:38.218285",
     "exception": false,
     "start_time": "2022-02-24T11:32:38.121021",
     "status": "completed"
    },
    "tags": []
   },
   "outputs": [
    {
     "data": {
      "text/html": [
       "<div>\n",
       "<style scoped>\n",
       "    .dataframe tbody tr th:only-of-type {\n",
       "        vertical-align: middle;\n",
       "    }\n",
       "\n",
       "    .dataframe tbody tr th {\n",
       "        vertical-align: top;\n",
       "    }\n",
       "\n",
       "    .dataframe thead th {\n",
       "        text-align: right;\n",
       "    }\n",
       "</style>\n",
       "<table border=\"1\" class=\"dataframe\">\n",
       "  <thead>\n",
       "    <tr style=\"text-align: right;\">\n",
       "      <th></th>\n",
       "      <th>1st</th>\n",
       "      <th>2nd</th>\n",
       "      <th>3rd</th>\n",
       "      <th>Col_Total</th>\n",
       "    </tr>\n",
       "  </thead>\n",
       "  <tbody>\n",
       "    <tr>\n",
       "      <th>Died</th>\n",
       "      <td>80</td>\n",
       "      <td>97</td>\n",
       "      <td>372</td>\n",
       "      <td>549</td>\n",
       "    </tr>\n",
       "    <tr>\n",
       "      <th>Survived</th>\n",
       "      <td>136</td>\n",
       "      <td>87</td>\n",
       "      <td>119</td>\n",
       "      <td>342</td>\n",
       "    </tr>\n",
       "    <tr>\n",
       "      <th>Row_Total</th>\n",
       "      <td>216</td>\n",
       "      <td>184</td>\n",
       "      <td>491</td>\n",
       "      <td>891</td>\n",
       "    </tr>\n",
       "  </tbody>\n",
       "</table>\n",
       "</div>"
      ],
      "text/plain": [
       "           1st  2nd  3rd  Col_Total\n",
       "Died        80   97  372        549\n",
       "Survived   136   87  119        342\n",
       "Row_Total  216  184  491        891"
      ]
     },
     "execution_count": 19,
     "metadata": {},
     "output_type": "execute_result"
    }
   ],
   "source": [
    "crosstab = pd.crosstab(train_data.Survived, train_data.Pclass, margins=True, margins_name=\"Total\")\n",
    "\n",
    "crosstab.index = [\"Died\" , \"Survived\" , \"Row_Total\"] \n",
    "crosstab.columns= [\"1st\",\"2nd\",\"3rd\", \"Col_Total\"]\n",
    "crosstab"
   ]
  },
  {
   "cell_type": "markdown",
   "id": "4feb9c77",
   "metadata": {
    "papermill": {
     "duration": 0.055369,
     "end_time": "2022-02-24T11:32:38.330373",
     "exception": false,
     "start_time": "2022-02-24T11:32:38.275004",
     "status": "completed"
    },
    "tags": []
   },
   "source": [
    "### Which gender had more survival?\n",
    "* While approximately 74% of the female passengers survived, approximately 18% of the male passengers survived. \n",
    "* Being a woman here has been more liberating."
   ]
  },
  {
   "cell_type": "code",
   "execution_count": 20,
   "id": "281bd3bc",
   "metadata": {
    "_kg_hide-input": true,
    "execution": {
     "iopub.execute_input": "2022-02-24T11:32:38.445337Z",
     "iopub.status.busy": "2022-02-24T11:32:38.444729Z",
     "iopub.status.idle": "2022-02-24T11:32:38.455434Z",
     "shell.execute_reply": "2022-02-24T11:32:38.455955Z",
     "shell.execute_reply.started": "2022-02-18T09:30:37.25412Z"
    },
    "papermill": {
     "duration": 0.069505,
     "end_time": "2022-02-24T11:32:38.456101",
     "exception": false,
     "start_time": "2022-02-24T11:32:38.386596",
     "status": "completed"
    },
    "tags": []
   },
   "outputs": [
    {
     "data": {
      "text/html": [
       "<div>\n",
       "<style scoped>\n",
       "    .dataframe tbody tr th:only-of-type {\n",
       "        vertical-align: middle;\n",
       "    }\n",
       "\n",
       "    .dataframe tbody tr th {\n",
       "        vertical-align: top;\n",
       "    }\n",
       "\n",
       "    .dataframe thead th {\n",
       "        text-align: right;\n",
       "    }\n",
       "</style>\n",
       "<table border=\"1\" class=\"dataframe\">\n",
       "  <thead>\n",
       "    <tr style=\"text-align: right;\">\n",
       "      <th></th>\n",
       "      <th>Survived</th>\n",
       "      <th>Total</th>\n",
       "      <th>Percentage</th>\n",
       "    </tr>\n",
       "    <tr>\n",
       "      <th>Sex</th>\n",
       "      <th></th>\n",
       "      <th></th>\n",
       "      <th></th>\n",
       "    </tr>\n",
       "  </thead>\n",
       "  <tbody>\n",
       "    <tr>\n",
       "      <th>female</th>\n",
       "      <td>233</td>\n",
       "      <td>314</td>\n",
       "      <td>74.203822</td>\n",
       "    </tr>\n",
       "    <tr>\n",
       "      <th>male</th>\n",
       "      <td>109</td>\n",
       "      <td>577</td>\n",
       "      <td>18.890815</td>\n",
       "    </tr>\n",
       "  </tbody>\n",
       "</table>\n",
       "</div>"
      ],
      "text/plain": [
       "        Survived  Total  Percentage\n",
       "Sex                                \n",
       "female       233    314   74.203822\n",
       "male         109    577   18.890815"
      ]
     },
     "execution_count": 20,
     "metadata": {},
     "output_type": "execute_result"
    }
   ],
   "source": [
    "group_by_sex = train_data.groupby('Sex')\n",
    "\n",
    "survived_by_sex = group_by_sex['Survived'].sum()\n",
    "survived_by_sex.name = 'Survived'\n",
    "\n",
    "total_by_sex = group_by_sex['Survived'].size()\n",
    "total_by_sex.name = 'Total'\n",
    "\n",
    "survived_total_by_sex = pd.concat([survived_by_sex, total_by_sex], axis=1)\n",
    "\n",
    "percent_survived = (survived_total_by_sex['Survived'] / survived_total_by_sex['Total']) * 100\n",
    "survived_total_by_sex['Percentage'] = percent_survived\n",
    "\n",
    "survived_total_by_sex"
   ]
  },
  {
   "cell_type": "code",
   "execution_count": 21,
   "id": "5830f56a",
   "metadata": {
    "_kg_hide-input": true,
    "execution": {
     "iopub.execute_input": "2022-02-24T11:32:38.570992Z",
     "iopub.status.busy": "2022-02-24T11:32:38.570417Z",
     "iopub.status.idle": "2022-02-24T11:32:38.840177Z",
     "shell.execute_reply": "2022-02-24T11:32:38.840780Z",
     "shell.execute_reply.started": "2022-02-18T09:30:37.274331Z"
    },
    "papermill": {
     "duration": 0.328379,
     "end_time": "2022-02-24T11:32:38.840928",
     "exception": false,
     "start_time": "2022-02-24T11:32:38.512549",
     "status": "completed"
    },
    "tags": []
   },
   "outputs": [
    {
     "data": {
      "image/png": "[encoded data removed]",
      "text/plain": [
       "<Figure size 411.875x360 with 1 Axes>"
      ]
     },
     "metadata": {},
     "output_type": "display_data"
    }
   ],
   "source": [
    "sns.catplot(x =\"Sex\", hue =\"Survived\",\n",
    "kind =\"count\", data = train_data);"
   ]
  },
  {
   "cell_type": "markdown",
   "id": "ceca15b3",
   "metadata": {
    "papermill": {
     "duration": 0.057424,
     "end_time": "2022-02-24T11:32:38.956168",
     "exception": false,
     "start_time": "2022-02-24T11:32:38.898744",
     "status": "completed"
    },
    "tags": []
   },
   "source": [
    "### Person travelling with others had more survival possibility?\n",
    "* Passengers who do not travel alone are on average 26 years old.\n",
    "* Passengers who do not travel alone have an average of 2nd class tickets.\n",
    "* Passengers who do not travel alone have an average of 48.83 fare.\n",
    "\n",
    "\n",
    "\n",
    "* Passengers who travel alone are on average 31 years old.\n",
    "* Passengers who travel alone have an average of 2nd class tickets.\n",
    "* Passengers who travel alone have an average of 21.24 fare.\n"
   ]
  },
  {
   "cell_type": "code",
   "execution_count": 22,
   "id": "ac7a8a0f",
   "metadata": {
    "_kg_hide-input": true,
    "execution": {
     "iopub.execute_input": "2022-02-24T11:32:39.081422Z",
     "iopub.status.busy": "2022-02-24T11:32:39.080839Z",
     "iopub.status.idle": "2022-02-24T11:32:39.109552Z",
     "shell.execute_reply": "2022-02-24T11:32:39.110094Z",
     "shell.execute_reply.started": "2022-02-18T09:30:37.707444Z"
    },
    "papermill": {
     "duration": 0.096385,
     "end_time": "2022-02-24T11:32:39.110237",
     "exception": false,
     "start_time": "2022-02-24T11:32:39.013852",
     "status": "completed"
    },
    "tags": []
   },
   "outputs": [
    {
     "data": {
      "text/html": [
       "<div>\n",
       "<style scoped>\n",
       "    .dataframe tbody tr th:only-of-type {\n",
       "        vertical-align: middle;\n",
       "    }\n",
       "\n",
       "    .dataframe tbody tr th {\n",
       "        vertical-align: top;\n",
       "    }\n",
       "\n",
       "    .dataframe thead th {\n",
       "        text-align: right;\n",
       "    }\n",
       "</style>\n",
       "<table border=\"1\" class=\"dataframe\">\n",
       "  <thead>\n",
       "    <tr style=\"text-align: right;\">\n",
       "      <th></th>\n",
       "      <th>PassengerId</th>\n",
       "      <th>Survived</th>\n",
       "      <th>Pclass</th>\n",
       "      <th>Age</th>\n",
       "      <th>SibSp</th>\n",
       "      <th>Parch</th>\n",
       "      <th>Fare</th>\n",
       "    </tr>\n",
       "  </thead>\n",
       "  <tbody>\n",
       "    <tr>\n",
       "      <th>count</th>\n",
       "      <td>354.000000</td>\n",
       "      <td>354.000000</td>\n",
       "      <td>354.000000</td>\n",
       "      <td>310.000000</td>\n",
       "      <td>354.000000</td>\n",
       "      <td>354.000000</td>\n",
       "      <td>354.000000</td>\n",
       "    </tr>\n",
       "    <tr>\n",
       "      <th>mean</th>\n",
       "      <td>427.796610</td>\n",
       "      <td>0.505650</td>\n",
       "      <td>2.169492</td>\n",
       "      <td>26.413452</td>\n",
       "      <td>1.316384</td>\n",
       "      <td>0.960452</td>\n",
       "      <td>48.832275</td>\n",
       "    </tr>\n",
       "    <tr>\n",
       "      <th>std</th>\n",
       "      <td>259.122836</td>\n",
       "      <td>0.500676</td>\n",
       "      <td>0.864520</td>\n",
       "      <td>15.834923</td>\n",
       "      <td>1.420774</td>\n",
       "      <td>1.039512</td>\n",
       "      <td>55.307615</td>\n",
       "    </tr>\n",
       "    <tr>\n",
       "      <th>min</th>\n",
       "      <td>1.000000</td>\n",
       "      <td>0.000000</td>\n",
       "      <td>1.000000</td>\n",
       "      <td>0.420000</td>\n",
       "      <td>0.000000</td>\n",
       "      <td>0.000000</td>\n",
       "      <td>6.495800</td>\n",
       "    </tr>\n",
       "    <tr>\n",
       "      <th>25%</th>\n",
       "      <td>195.000000</td>\n",
       "      <td>0.000000</td>\n",
       "      <td>1.000000</td>\n",
       "      <td>16.000000</td>\n",
       "      <td>1.000000</td>\n",
       "      <td>0.000000</td>\n",
       "      <td>18.000000</td>\n",
       "    </tr>\n",
       "    <tr>\n",
       "      <th>50%</th>\n",
       "      <td>419.000000</td>\n",
       "      <td>1.000000</td>\n",
       "      <td>2.000000</td>\n",
       "      <td>26.000000</td>\n",
       "      <td>1.000000</td>\n",
       "      <td>1.000000</td>\n",
       "      <td>27.750000</td>\n",
       "    </tr>\n",
       "    <tr>\n",
       "      <th>75%</th>\n",
       "      <td>645.750000</td>\n",
       "      <td>1.000000</td>\n",
       "      <td>3.000000</td>\n",
       "      <td>37.000000</td>\n",
       "      <td>1.000000</td>\n",
       "      <td>2.000000</td>\n",
       "      <td>59.044800</td>\n",
       "    </tr>\n",
       "    <tr>\n",
       "      <th>max</th>\n",
       "      <td>889.000000</td>\n",
       "      <td>1.000000</td>\n",
       "      <td>3.000000</td>\n",
       "      <td>70.000000</td>\n",
       "      <td>8.000000</td>\n",
       "      <td>6.000000</td>\n",
       "      <td>512.329200</td>\n",
       "    </tr>\n",
       "  </tbody>\n",
       "</table>\n",
       "</div>"
      ],
      "text/plain": [
       "       PassengerId    Survived      Pclass         Age       SibSp  \\\n",
       "count   354.000000  354.000000  354.000000  310.000000  354.000000   \n",
       "mean    427.796610    0.505650    2.169492   26.413452    1.316384   \n",
       "std     259.122836    0.500676    0.864520   15.834923    1.420774   \n",
       "min       1.000000    0.000000    1.000000    0.420000    0.000000   \n",
       "25%     195.000000    0.000000    1.000000   16.000000    1.000000   \n",
       "50%     419.000000    1.000000    2.000000   26.000000    1.000000   \n",
       "75%     645.750000    1.000000    3.000000   37.000000    1.000000   \n",
       "max     889.000000    1.000000    3.000000   70.000000    8.000000   \n",
       "\n",
       "            Parch        Fare  \n",
       "count  354.000000  354.000000  \n",
       "mean     0.960452   48.832275  \n",
       "std      1.039512   55.307615  \n",
       "min      0.000000    6.495800  \n",
       "25%      0.000000   18.000000  \n",
       "50%      1.000000   27.750000  \n",
       "75%      2.000000   59.044800  \n",
       "max      6.000000  512.329200  "
      ]
     },
     "metadata": {},
     "output_type": "display_data"
    },
    {
     "name": "stdout",
     "output_type": "stream",
     "text": [
      "Not alone - describe None\n"
     ]
    }
   ],
   "source": [
    "for i in train_data:\n",
    "    is_not_alone = (train_data.SibSp + train_data.Parch) >= 1\n",
    "    passengers_not_alone = train_data[is_not_alone]\n",
    "print('Not alone - describe',display(passengers_not_alone.describe()))"
   ]
  },
  {
   "cell_type": "code",
   "execution_count": 23,
   "id": "d3ce1a48",
   "metadata": {
    "_kg_hide-input": true,
    "execution": {
     "iopub.execute_input": "2022-02-24T11:32:39.233932Z",
     "iopub.status.busy": "2022-02-24T11:32:39.229285Z",
     "iopub.status.idle": "2022-02-24T11:32:39.269114Z",
     "shell.execute_reply": "2022-02-24T11:32:39.269630Z",
     "shell.execute_reply.started": "2022-02-18T09:30:37.763869Z"
    },
    "papermill": {
     "duration": 0.10102,
     "end_time": "2022-02-24T11:32:39.269784",
     "exception": false,
     "start_time": "2022-02-24T11:32:39.168764",
     "status": "completed"
    },
    "tags": []
   },
   "outputs": [
    {
     "data": {
      "text/html": [
       "<div>\n",
       "<style scoped>\n",
       "    .dataframe tbody tr th:only-of-type {\n",
       "        vertical-align: middle;\n",
       "    }\n",
       "\n",
       "    .dataframe tbody tr th {\n",
       "        vertical-align: top;\n",
       "    }\n",
       "\n",
       "    .dataframe thead th {\n",
       "        text-align: right;\n",
       "    }\n",
       "</style>\n",
       "<table border=\"1\" class=\"dataframe\">\n",
       "  <thead>\n",
       "    <tr style=\"text-align: right;\">\n",
       "      <th></th>\n",
       "      <th>PassengerId</th>\n",
       "      <th>Survived</th>\n",
       "      <th>Pclass</th>\n",
       "      <th>Age</th>\n",
       "      <th>SibSp</th>\n",
       "      <th>Parch</th>\n",
       "      <th>Fare</th>\n",
       "    </tr>\n",
       "  </thead>\n",
       "  <tbody>\n",
       "    <tr>\n",
       "      <th>count</th>\n",
       "      <td>537.000000</td>\n",
       "      <td>537.000000</td>\n",
       "      <td>537.000000</td>\n",
       "      <td>404.000000</td>\n",
       "      <td>537.0</td>\n",
       "      <td>537.0</td>\n",
       "      <td>537.000000</td>\n",
       "    </tr>\n",
       "    <tr>\n",
       "      <th>mean</th>\n",
       "      <td>458.000000</td>\n",
       "      <td>0.303538</td>\n",
       "      <td>2.400372</td>\n",
       "      <td>32.220297</td>\n",
       "      <td>0.0</td>\n",
       "      <td>0.0</td>\n",
       "      <td>21.242689</td>\n",
       "    </tr>\n",
       "    <tr>\n",
       "      <th>std</th>\n",
       "      <td>255.714174</td>\n",
       "      <td>0.460214</td>\n",
       "      <td>0.804511</td>\n",
       "      <td>12.899871</td>\n",
       "      <td>0.0</td>\n",
       "      <td>0.0</td>\n",
       "      <td>42.223510</td>\n",
       "    </tr>\n",
       "    <tr>\n",
       "      <th>min</th>\n",
       "      <td>3.000000</td>\n",
       "      <td>0.000000</td>\n",
       "      <td>1.000000</td>\n",
       "      <td>5.000000</td>\n",
       "      <td>0.0</td>\n",
       "      <td>0.0</td>\n",
       "      <td>0.000000</td>\n",
       "    </tr>\n",
       "    <tr>\n",
       "      <th>25%</th>\n",
       "      <td>235.000000</td>\n",
       "      <td>0.000000</td>\n",
       "      <td>2.000000</td>\n",
       "      <td>22.000000</td>\n",
       "      <td>0.0</td>\n",
       "      <td>0.0</td>\n",
       "      <td>7.775000</td>\n",
       "    </tr>\n",
       "    <tr>\n",
       "      <th>50%</th>\n",
       "      <td>466.000000</td>\n",
       "      <td>0.000000</td>\n",
       "      <td>3.000000</td>\n",
       "      <td>29.500000</td>\n",
       "      <td>0.0</td>\n",
       "      <td>0.0</td>\n",
       "      <td>8.137500</td>\n",
       "    </tr>\n",
       "    <tr>\n",
       "      <th>75%</th>\n",
       "      <td>681.000000</td>\n",
       "      <td>1.000000</td>\n",
       "      <td>3.000000</td>\n",
       "      <td>39.000000</td>\n",
       "      <td>0.0</td>\n",
       "      <td>0.0</td>\n",
       "      <td>15.000000</td>\n",
       "    </tr>\n",
       "    <tr>\n",
       "      <th>max</th>\n",
       "      <td>891.000000</td>\n",
       "      <td>1.000000</td>\n",
       "      <td>3.000000</td>\n",
       "      <td>80.000000</td>\n",
       "      <td>0.0</td>\n",
       "      <td>0.0</td>\n",
       "      <td>512.329200</td>\n",
       "    </tr>\n",
       "  </tbody>\n",
       "</table>\n",
       "</div>"
      ],
      "text/plain": [
       "       PassengerId    Survived      Pclass         Age  SibSp  Parch  \\\n",
       "count   537.000000  537.000000  537.000000  404.000000  537.0  537.0   \n",
       "mean    458.000000    0.303538    2.400372   32.220297    0.0    0.0   \n",
       "std     255.714174    0.460214    0.804511   12.899871    0.0    0.0   \n",
       "min       3.000000    0.000000    1.000000    5.000000    0.0    0.0   \n",
       "25%     235.000000    0.000000    2.000000   22.000000    0.0    0.0   \n",
       "50%     466.000000    0.000000    3.000000   29.500000    0.0    0.0   \n",
       "75%     681.000000    1.000000    3.000000   39.000000    0.0    0.0   \n",
       "max     891.000000    1.000000    3.000000   80.000000    0.0    0.0   \n",
       "\n",
       "             Fare  \n",
       "count  537.000000  \n",
       "mean    21.242689  \n",
       "std     42.223510  \n",
       "min      0.000000  \n",
       "25%      7.775000  \n",
       "50%      8.137500  \n",
       "75%     15.000000  \n",
       "max    512.329200  "
      ]
     },
     "metadata": {},
     "output_type": "display_data"
    },
    {
     "name": "stdout",
     "output_type": "stream",
     "text": [
      "Alone - describe None\n"
     ]
    }
   ],
   "source": [
    "for i in train_data:\n",
    "    is_alone = (train_data.SibSp + train_data.Parch) == 0\n",
    "    passengers_alone = train_data[is_alone]\n",
    "print('Alone - describe',display(passengers_alone.describe()))"
   ]
  },
  {
   "cell_type": "code",
   "execution_count": 24,
   "id": "61b243ee",
   "metadata": {
    "_kg_hide-input": true,
    "execution": {
     "iopub.execute_input": "2022-02-24T11:32:39.393816Z",
     "iopub.status.busy": "2022-02-24T11:32:39.393216Z",
     "iopub.status.idle": "2022-02-24T11:32:39.692239Z",
     "shell.execute_reply": "2022-02-24T11:32:39.692780Z",
     "shell.execute_reply.started": "2022-02-18T09:30:37.814775Z"
    },
    "papermill": {
     "duration": 0.36218,
     "end_time": "2022-02-24T11:32:39.692959",
     "exception": false,
     "start_time": "2022-02-24T11:32:39.330779",
     "status": "completed"
    },
    "tags": []
   },
   "outputs": [
    {
     "data": {
      "image/png": "[encoded data removed]",
      "text/plain": [
       "<Figure size 432x288 with 1 Axes>"
      ]
     },
     "metadata": {},
     "output_type": "display_data"
    }
   ],
   "source": [
    "passengers_not_alone.Age.hist(label='Not alone')\n",
    "passengers_alone.Age.hist(label='Alone', alpha=0.6)\n",
    "\n",
    "plt.xlabel('Age')\n",
    "plt.ylabel('Passengers')\n",
    "plt.legend(loc='best')\n",
    "plt.title('Alone & Not Alone Passenger\\'s Ages');"
   ]
  },
  {
   "cell_type": "markdown",
   "id": "3b01262a",
   "metadata": {
    "papermill": {
     "duration": 0.061335,
     "end_time": "2022-02-24T11:32:39.816541",
     "exception": false,
     "start_time": "2022-02-24T11:32:39.755206",
     "status": "completed"
    },
    "tags": []
   },
   "source": [
    "* About 30% of the alone passengers survived, while about 50% of the non-alone passengers survived.\n",
    "* About 70% of the alone passengers survived, while about 50% of the non-alone passengers survived."
   ]
  },
  {
   "cell_type": "code",
   "execution_count": 25,
   "id": "69f3c055",
   "metadata": {
    "_kg_hide-input": true,
    "execution": {
     "iopub.execute_input": "2022-02-24T11:32:39.943311Z",
     "iopub.status.busy": "2022-02-24T11:32:39.942700Z",
     "iopub.status.idle": "2022-02-24T11:32:39.961040Z",
     "shell.execute_reply": "2022-02-24T11:32:39.961644Z",
     "shell.execute_reply.started": "2022-02-18T09:30:38.229632Z"
    },
    "papermill": {
     "duration": 0.082854,
     "end_time": "2022-02-24T11:32:39.961793",
     "exception": false,
     "start_time": "2022-02-24T11:32:39.878939",
     "status": "completed"
    },
    "tags": []
   },
   "outputs": [
    {
     "data": {
      "text/html": [
       "<div>\n",
       "<style scoped>\n",
       "    .dataframe tbody tr th:only-of-type {\n",
       "        vertical-align: middle;\n",
       "    }\n",
       "\n",
       "    .dataframe tbody tr th {\n",
       "        vertical-align: top;\n",
       "    }\n",
       "\n",
       "    .dataframe thead th {\n",
       "        text-align: right;\n",
       "    }\n",
       "</style>\n",
       "<table border=\"1\" class=\"dataframe\">\n",
       "  <thead>\n",
       "    <tr style=\"text-align: right;\">\n",
       "      <th></th>\n",
       "      <th>Survived</th>\n",
       "      <th>Total</th>\n",
       "      <th>Percent survived</th>\n",
       "    </tr>\n",
       "  </thead>\n",
       "  <tbody>\n",
       "    <tr>\n",
       "      <th>Alone</th>\n",
       "      <td>163</td>\n",
       "      <td>537</td>\n",
       "      <td>30.353818</td>\n",
       "    </tr>\n",
       "    <tr>\n",
       "      <th>Not Alone</th>\n",
       "      <td>179</td>\n",
       "      <td>354</td>\n",
       "      <td>50.564972</td>\n",
       "    </tr>\n",
       "  </tbody>\n",
       "</table>\n",
       "</div>"
      ],
      "text/plain": [
       "           Survived  Total  Percent survived\n",
       "Alone           163    537         30.353818\n",
       "Not Alone       179    354         50.564972"
      ]
     },
     "execution_count": 25,
     "metadata": {},
     "output_type": "execute_result"
    }
   ],
   "source": [
    "notalone = np.where((train_data.SibSp + train_data.Parch) >= 1, 'Not Alone', 'Alone')\n",
    "loneliness_summary = train_data.groupby(notalone, as_index=False)['Survived'].agg([np.sum, np.size])\n",
    "loneliness_summary = loneliness_summary.rename(columns={'sum':'Survived', 'size':'Total'})\n",
    "loneliness_summary['Percent survived'] = (loneliness_summary.Survived / loneliness_summary.Total) * 100\n",
    "loneliness_summary"
   ]
  },
  {
   "cell_type": "code",
   "execution_count": 26,
   "id": "c582d736",
   "metadata": {
    "_kg_hide-input": true,
    "execution": {
     "iopub.execute_input": "2022-02-24T11:32:40.092693Z",
     "iopub.status.busy": "2022-02-24T11:32:40.092043Z",
     "iopub.status.idle": "2022-02-24T11:32:40.275113Z",
     "shell.execute_reply": "2022-02-24T11:32:40.274616Z",
     "shell.execute_reply.started": "2022-02-18T09:30:38.254934Z"
    },
    "papermill": {
     "duration": 0.25066,
     "end_time": "2022-02-24T11:32:40.275216",
     "exception": false,
     "start_time": "2022-02-24T11:32:40.024556",
     "status": "completed"
    },
    "tags": []
   },
   "outputs": [
    {
     "data": {
      "image/png": "[encoded data removed]",
      "text/plain": [
       "<Figure size 432x288 with 1 Axes>"
      ]
     },
     "metadata": {},
     "output_type": "display_data"
    }
   ],
   "source": [
    "x = range(len(loneliness_summary.index.values))\n",
    "ht = loneliness_summary.Total\n",
    "hs = loneliness_summary.Survived\n",
    "\n",
    "pht = plt.bar(x, ht)\n",
    "phs = plt.bar(x, hs)\n",
    "\n",
    "plt.xticks(x, loneliness_summary.index.values)\n",
    "plt.xlabel('Alone / Not Alone')\n",
    "plt.ylabel('Passengers')\n",
    "plt.title('Survivors by Alone / Not Alone')\n",
    "\n",
    "plt.legend([pht,phs],['Died', 'Survived']);"
   ]
  },
  {
   "cell_type": "markdown",
   "id": "0da4e035",
   "metadata": {
    "papermill": {
     "duration": 0.043573,
     "end_time": "2022-02-24T11:32:40.362453",
     "exception": false,
     "start_time": "2022-02-24T11:32:40.318880",
     "status": "completed"
    },
    "tags": []
   },
   "source": [
    "### Which age group had a better chance of survival?\n",
    "* 30-39 age group passengers had better chance of survival.\n",
    "* 20-29 age group passengers had unlucky of survival."
   ]
  },
  {
   "cell_type": "code",
   "execution_count": 27,
   "id": "9c1d451d",
   "metadata": {
    "_kg_hide-input": true,
    "execution": {
     "iopub.execute_input": "2022-02-24T11:32:40.456664Z",
     "iopub.status.busy": "2022-02-24T11:32:40.455901Z",
     "iopub.status.idle": "2022-02-24T11:32:40.470286Z",
     "shell.execute_reply": "2022-02-24T11:32:40.470729Z",
     "shell.execute_reply.started": "2022-02-18T09:30:38.528986Z"
    },
    "papermill": {
     "duration": 0.064747,
     "end_time": "2022-02-24T11:32:40.470854",
     "exception": false,
     "start_time": "2022-02-24T11:32:40.406107",
     "status": "completed"
    },
    "tags": []
   },
   "outputs": [
    {
     "data": {
      "text/html": [
       "<div>\n",
       "<style scoped>\n",
       "    .dataframe tbody tr th:only-of-type {\n",
       "        vertical-align: middle;\n",
       "    }\n",
       "\n",
       "    .dataframe tbody tr th {\n",
       "        vertical-align: top;\n",
       "    }\n",
       "\n",
       "    .dataframe thead th {\n",
       "        text-align: right;\n",
       "    }\n",
       "</style>\n",
       "<table border=\"1\" class=\"dataframe\">\n",
       "  <thead>\n",
       "    <tr style=\"text-align: right;\">\n",
       "      <th></th>\n",
       "      <th>Survived</th>\n",
       "      <th>Total</th>\n",
       "      <th>SurvivedPercent</th>\n",
       "      <th>DiedPercent</th>\n",
       "    </tr>\n",
       "    <tr>\n",
       "      <th>Age_Group</th>\n",
       "      <th></th>\n",
       "      <th></th>\n",
       "      <th></th>\n",
       "      <th></th>\n",
       "    </tr>\n",
       "  </thead>\n",
       "  <tbody>\n",
       "    <tr>\n",
       "      <th>0-9</th>\n",
       "      <td>38</td>\n",
       "      <td>62</td>\n",
       "      <td>61.290323</td>\n",
       "      <td>38.709677</td>\n",
       "    </tr>\n",
       "    <tr>\n",
       "      <th>10-19</th>\n",
       "      <td>41</td>\n",
       "      <td>102</td>\n",
       "      <td>40.196078</td>\n",
       "      <td>59.803922</td>\n",
       "    </tr>\n",
       "    <tr>\n",
       "      <th>20-29</th>\n",
       "      <td>77</td>\n",
       "      <td>220</td>\n",
       "      <td>35.000000</td>\n",
       "      <td>65.000000</td>\n",
       "    </tr>\n",
       "    <tr>\n",
       "      <th>30-39</th>\n",
       "      <td>73</td>\n",
       "      <td>167</td>\n",
       "      <td>43.712575</td>\n",
       "      <td>56.287425</td>\n",
       "    </tr>\n",
       "    <tr>\n",
       "      <th>40-49</th>\n",
       "      <td>34</td>\n",
       "      <td>89</td>\n",
       "      <td>38.202247</td>\n",
       "      <td>61.797753</td>\n",
       "    </tr>\n",
       "    <tr>\n",
       "      <th>50-59</th>\n",
       "      <td>20</td>\n",
       "      <td>48</td>\n",
       "      <td>41.666667</td>\n",
       "      <td>58.333333</td>\n",
       "    </tr>\n",
       "    <tr>\n",
       "      <th>60-69</th>\n",
       "      <td>6</td>\n",
       "      <td>19</td>\n",
       "      <td>31.578947</td>\n",
       "      <td>68.421053</td>\n",
       "    </tr>\n",
       "    <tr>\n",
       "      <th>70+</th>\n",
       "      <td>1</td>\n",
       "      <td>7</td>\n",
       "      <td>14.285714</td>\n",
       "      <td>85.714286</td>\n",
       "    </tr>\n",
       "    <tr>\n",
       "      <th>other</th>\n",
       "      <td>52</td>\n",
       "      <td>177</td>\n",
       "      <td>29.378531</td>\n",
       "      <td>70.621469</td>\n",
       "    </tr>\n",
       "  </tbody>\n",
       "</table>\n",
       "</div>"
      ],
      "text/plain": [
       "           Survived  Total  SurvivedPercent  DiedPercent\n",
       "Age_Group                                               \n",
       "0-9              38     62        61.290323    38.709677\n",
       "10-19            41    102        40.196078    59.803922\n",
       "20-29            77    220        35.000000    65.000000\n",
       "30-39            73    167        43.712575    56.287425\n",
       "40-49            34     89        38.202247    61.797753\n",
       "50-59            20     48        41.666667    58.333333\n",
       "60-69             6     19        31.578947    68.421053\n",
       "70+               1      7        14.285714    85.714286\n",
       "other            52    177        29.378531    70.621469"
      ]
     },
     "execution_count": 27,
     "metadata": {},
     "output_type": "execute_result"
    }
   ],
   "source": [
    "age_group_summary = train_data.groupby(['Age_Group'], as_index=False)['Survived'].agg([np.sum, np.size])\n",
    "age_group_summary = age_group_summary.rename(columns={'sum':'Survived', 'size':'Total'})\n",
    "age_group_summary['SurvivedPercent'] = (age_group_summary.Survived / age_group_summary.Total) * 100\n",
    "age_group_summary['DiedPercent'] = ((age_group_summary.Total - age_group_summary.Survived) / age_group_summary.Total) * 100\n",
    "age_group_summary"
   ]
  },
  {
   "cell_type": "code",
   "execution_count": 28,
   "id": "c91c157f",
   "metadata": {
    "_kg_hide-input": true,
    "execution": {
     "iopub.execute_input": "2022-02-24T11:32:40.560939Z",
     "iopub.status.busy": "2022-02-24T11:32:40.560318Z",
     "iopub.status.idle": "2022-02-24T11:32:40.788038Z",
     "shell.execute_reply": "2022-02-24T11:32:40.787655Z",
     "shell.execute_reply.started": "2022-02-18T09:30:38.556771Z"
    },
    "papermill": {
     "duration": 0.27349,
     "end_time": "2022-02-24T11:32:40.788140",
     "exception": false,
     "start_time": "2022-02-24T11:32:40.514650",
     "status": "completed"
    },
    "tags": []
   },
   "outputs": [
    {
     "data": {
      "image/png": "[encoded data removed]",
      "text/plain": [
       "<Figure size 432x288 with 1 Axes>"
      ]
     },
     "metadata": {},
     "output_type": "display_data"
    }
   ],
   "source": [
    "x = range(len(age_group_summary.index.values))\n",
    "ht = age_group_summary.Total\n",
    "hs = age_group_summary.Survived\n",
    "\n",
    "pht = plt.bar(x, ht)\n",
    "phs = plt.bar(x, hs)\n",
    "\n",
    "plt.xticks(x, age_group_summary.index.values)\n",
    "plt.xlabel('Age groups')\n",
    "plt.ylabel('Total')\n",
    "plt.title('Survivors by Age group')\n",
    "\n",
    "plt.legend([pht,phs],['Died', 'Survived']);"
   ]
  },
  {
   "cell_type": "markdown",
   "id": "c58d09a1",
   "metadata": {
    "papermill": {
     "duration": 0.045068,
     "end_time": "2022-02-24T11:32:40.877680",
     "exception": false,
     "start_time": "2022-02-24T11:32:40.832612",
     "status": "completed"
    },
    "tags": []
   },
   "source": [
    "**Pclass and Survived**\n",
    "\n",
    "There is a relationship between survivors and pclass = 3."
   ]
  },
  {
   "cell_type": "code",
   "execution_count": 29,
   "id": "bcc5122a",
   "metadata": {
    "_kg_hide-input": true,
    "execution": {
     "iopub.execute_input": "2022-02-24T11:32:40.968878Z",
     "iopub.status.busy": "2022-02-24T11:32:40.968237Z",
     "iopub.status.idle": "2022-02-24T11:32:41.169715Z",
     "shell.execute_reply": "2022-02-24T11:32:41.170055Z",
     "shell.execute_reply.started": "2022-02-18T09:30:38.916178Z"
    },
    "papermill": {
     "duration": 0.248293,
     "end_time": "2022-02-24T11:32:41.170184",
     "exception": false,
     "start_time": "2022-02-24T11:32:40.921891",
     "status": "completed"
    },
    "tags": []
   },
   "outputs": [
    {
     "data": {
      "image/png": "[encoded data removed]",
      "text/plain": [
       "<Figure size 432x288 with 2 Axes>"
      ]
     },
     "metadata": {},
     "output_type": "display_data"
    }
   ],
   "source": [
    "# Group the dataset by Pclass and Survived and then unstack them\n",
    "group = train_data.groupby(['Pclass', 'Survived'])\n",
    "pclass_survived = group.size().unstack()\n",
    " \n",
    "# Heatmap - Color encoded 2D representation of data.\n",
    "sns.heatmap(pclass_survived, annot = True, fmt =\"d\");"
   ]
  },
  {
   "cell_type": "code",
   "execution_count": 30,
   "id": "17c415ad",
   "metadata": {
    "_kg_hide-input": true,
    "execution": {
     "iopub.execute_input": "2022-02-24T11:32:41.263801Z",
     "iopub.status.busy": "2022-02-24T11:32:41.263171Z",
     "iopub.status.idle": "2022-02-24T11:32:41.812759Z",
     "shell.execute_reply": "2022-02-24T11:32:41.813310Z",
     "shell.execute_reply.started": "2022-02-18T09:30:39.215734Z"
    },
    "papermill": {
     "duration": 0.59828,
     "end_time": "2022-02-24T11:32:41.813476",
     "exception": false,
     "start_time": "2022-02-24T11:32:41.215196",
     "status": "completed"
    },
    "tags": []
   },
   "outputs": [
    {
     "data": {
      "image/png": "[encoded data removed]",
      "text/plain": [
       "<Figure size 1131.88x360 with 3 Axes>"
      ]
     },
     "metadata": {},
     "output_type": "display_data"
    }
   ],
   "source": [
    "sns.catplot(x ='Embarked', hue ='Survived',\n",
    "kind ='count', col ='Pclass', data = train_data);"
   ]
  },
  {
   "cell_type": "markdown",
   "id": "05e5d870",
   "metadata": {
    "papermill": {
     "duration": 0.065705,
     "end_time": "2022-02-24T11:32:41.945848",
     "exception": false,
     "start_time": "2022-02-24T11:32:41.880143",
     "status": "completed"
    },
    "tags": []
   },
   "source": [
    "\n",
    "**In progress**\n",
    "\n",
    "Thank you for reading. If you like, please upvote notebook :)\n",
    "\n",
    "**References**\n",
    "\n",
    "This notebook is created by learning from the following:\n",
    "\n",
    "**[1.]** https://notebook.community/vikramsjn/Investigate-Titanic-Dataset/Analysis%20of%20Titanic%20Dataset\n",
    "\n",
    "**[2.]** https://github.com/ahmedbesbes/How-to-score-0.8134-in-Titanic-Kaggle-Challenge/blob/master/article_1.ipynb\n",
    "\n",
    "**[3.]** https://github.com/minsuk-heo/kaggle-titanic/blob/master/titanic-solution.ipynb\n",
    "\n",
    "**[4.]** https://github.com/agconti/kaggle-titanic/blob/master/Titanic.ipynb\n",
    "\n",
    "**[5.]** https://www.geeksforgeeks.org/python-titanic-data-eda-using-seaborn/\n",
    "\n",
    "**[6.]** https://www.kaggle.com/gunesevitan/titanic-advanced-feature-engineering-tutorial\n",
    "\n",
    "**[7.]** https://www.kaggle.com/startupsci/titanic-data-science-solutions\n"
   ]
  }
 ],
 "metadata": {
  "kernelspec": {
   "display_name": "Python 3",
   "language": "python",
   "name": "python3"
  },
  "language_info": {
   "codemirror_mode": {
    "name": "ipython",
    "version": 3
   },
   "file_extension": ".py",
   "mimetype": "text/x-python",
   "name": "python",
   "nbconvert_exporter": "python",
   "pygments_lexer": "ipython3",
   "version": "3.7.10"
  },
  "papermill": {
   "default_parameters": {},
   "duration": 21.539163,
   "end_time": "2022-02-24T11:32:42.921481",
   "environment_variables": {},
   "exception": null,
   "input_path": "__notebook__.ipynb",
   "output_path": "__notebook__.ipynb",
   "parameters": {},
   "start_time": "2022-02-24T11:32:21.382318",
   "version": "2.3.3"
  }
 },
 "nbformat": 4,
 "nbformat_minor": 5
}
