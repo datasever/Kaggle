{
 "cells": [
  {
   "cell_type": "markdown",
   "metadata": {
    "papermill": {
     "duration": 0.028938,
     "end_time": "2021-12-08T08:15:17.803464",
     "exception": false,
     "start_time": "2021-12-08T08:15:17.774526",
     "status": "completed"
    },
    "tags": []
   },
   "source": [
    "# Students Performance in Exams\n",
    "\n",
    "This data set consists of the marks secured by the students in various subjects. In this notebook, It is assumed that the data set is normally distributed.\n",
    "\n",
    "## Datasets Description\n",
    "\n",
    "* **`gender`:** \n",
    "    - female\n",
    "    - male\n",
    "* **`race.ethnicity` :** \n",
    "    - group A\n",
    "    - group B\n",
    "    - group C\n",
    "    - group D\n",
    "    - group E\n",
    "* **`parental.level.of.education` :** Parent education levels of students\n",
    "    - associate's degree\n",
    "    - bachelor's degree\n",
    "    - high school\n",
    "    - master's degree \n",
    "    - some college\n",
    "    - some high school\n",
    "* **`lunch`:** \n",
    "    - free/reduced\n",
    "    - standard\n",
    "* **`test.preparation.course`:** \n",
    "    - completed\n",
    "    - none\n",
    "* **`math.score`** \n",
    "* **`reading.score`** \n",
    "* **`writing.score`** \n",
    "\n",
    "**Which features are categorical?**\n",
    "- gender, race.ethnicity, parental.level.of.education, lunch, test.preparation.course\n",
    "\n",
    "**Which features are numerical?**\n",
    "- math.score, reading.score, writing.score"
   ]
  },
  {
   "cell_type": "code",
   "execution_count": 1,
   "metadata": {
    "_kg_hide-input": true,
    "_kg_hide-output": true,
    "execution": {
     "iopub.execute_input": "2021-12-08T08:15:17.889543Z",
     "iopub.status.busy": "2021-12-08T08:15:17.887057Z",
     "iopub.status.idle": "2021-12-08T08:15:21.888611Z",
     "shell.execute_reply": "2021-12-08T08:15:21.887098Z"
    },
    "papermill": {
     "duration": 4.059932,
     "end_time": "2021-12-08T08:15:21.888918",
     "exception": false,
     "start_time": "2021-12-08T08:15:17.828986",
     "status": "completed"
    },
    "tags": []
   },
   "outputs": [
    {
     "name": "stderr",
     "output_type": "stream",
     "text": [
      "── \u001b[1mAttaching packages\u001b[22m ─────────────────────────────────────── tidyverse 1.3.0 ──\n",
      "\n",
      "\u001b[32m✔\u001b[39m \u001b[34mggplot2\u001b[39m 3.3.2     \u001b[32m✔\u001b[39m \u001b[34mpurrr  \u001b[39m 0.3.4\n",
      "\u001b[32m✔\u001b[39m \u001b[34mtibble \u001b[39m 3.0.4     \u001b[32m✔\u001b[39m \u001b[34mdplyr  \u001b[39m 1.0.2\n",
      "\u001b[32m✔\u001b[39m \u001b[34mtidyr  \u001b[39m 1.1.2     \u001b[32m✔\u001b[39m \u001b[34mstringr\u001b[39m 1.4.0\n",
      "\u001b[32m✔\u001b[39m \u001b[34mreadr  \u001b[39m 1.4.0     \u001b[32m✔\u001b[39m \u001b[34mforcats\u001b[39m 0.5.0\n",
      "\n",
      "── \u001b[1mConflicts\u001b[22m ────────────────────────────────────────── tidyverse_conflicts() ──\n",
      "\u001b[31m✖\u001b[39m \u001b[34mdplyr\u001b[39m::\u001b[32mfilter()\u001b[39m masks \u001b[34mstats\u001b[39m::filter()\n",
      "\u001b[31m✖\u001b[39m \u001b[34mdplyr\u001b[39m::\u001b[32mlag()\u001b[39m    masks \u001b[34mstats\u001b[39m::lag()\n",
      "\n",
      "Loading required package: timeDate\n",
      "\n",
      "Loading required package: timeSeries\n",
      "\n",
      "\n",
      "Attaching package: ‘kableExtra’\n",
      "\n",
      "\n",
      "The following object is masked from ‘package:dplyr’:\n",
      "\n",
      "    group_rows\n",
      "\n",
      "\n",
      "Loading required package: Hmisc\n",
      "\n",
      "Loading required package: lattice\n",
      "\n",
      "Loading required package: survival\n",
      "\n",
      "Loading required package: Formula\n",
      "\n",
      "\n",
      "Attaching package: ‘Hmisc’\n",
      "\n",
      "\n",
      "The following objects are masked from ‘package:dplyr’:\n",
      "\n",
      "    src, summarize\n",
      "\n",
      "\n",
      "The following objects are masked from ‘package:base’:\n",
      "\n",
      "    format.pval, units\n",
      "\n",
      "\n",
      "funModeling v.1.9.4 :)\n",
      "Examples and tutorials at livebook.datascienceheroes.com\n",
      " / Now in Spanish: librovivodecienciadedatos.ai\n",
      "\n",
      "\n",
      "Attaching package: ‘plotly’\n",
      "\n",
      "\n",
      "The following object is masked from ‘package:Hmisc’:\n",
      "\n",
      "    subplot\n",
      "\n",
      "\n",
      "The following object is masked from ‘package:timeSeries’:\n",
      "\n",
      "    filter\n",
      "\n",
      "\n",
      "The following object is masked from ‘package:ggplot2’:\n",
      "\n",
      "    last_plot\n",
      "\n",
      "\n",
      "The following object is masked from ‘package:stats’:\n",
      "\n",
      "    filter\n",
      "\n",
      "\n",
      "The following object is masked from ‘package:graphics’:\n",
      "\n",
      "    layout\n",
      "\n",
      "\n",
      "The following object is masked from ‘package:httr’:\n",
      "\n",
      "    config\n",
      "\n",
      "\n",
      "\n",
      "Attaching package: ‘MASS’\n",
      "\n",
      "\n",
      "The following object is masked from ‘package:plotly’:\n",
      "\n",
      "    select\n",
      "\n",
      "\n",
      "The following object is masked from ‘package:dplyr’:\n",
      "\n",
      "    select\n",
      "\n",
      "\n",
      "corrplot 0.84 loaded\n",
      "\n"
     ]
    }
   ],
   "source": [
    "library(tidyverse) \n",
    "library(ggplot2)\n",
    "library(dplyr)\n",
    "library(fBasics) \n",
    "library(kableExtra)\n",
    "library(funModeling)\n",
    "library(plotly)\n",
    "library(MASS)\n",
    "library(corrplot)"
   ]
  },
  {
   "cell_type": "code",
   "execution_count": 2,
   "metadata": {
    "_kg_hide-input": true,
    "_kg_hide-output": true,
    "execution": {
     "iopub.execute_input": "2021-12-08T08:15:22.020141Z",
     "iopub.status.busy": "2021-12-08T08:15:21.960642Z",
     "iopub.status.idle": "2021-12-08T08:15:22.221311Z",
     "shell.execute_reply": "2021-12-08T08:15:22.220005Z"
    },
    "papermill": {
     "duration": 0.298196,
     "end_time": "2021-12-08T08:15:22.221474",
     "exception": false,
     "start_time": "2021-12-08T08:15:21.923278",
     "status": "completed"
    },
    "tags": []
   },
   "outputs": [],
   "source": [
    "data <- read.csv(\"../input/students-performance-in-exams/StudentsPerformance.csv\")\n",
    "\n",
    "names_columns <- c(\"gender\",\"race\",\"parent_education\",\"lunch\",\"test_prep\",\"math_score\",\"reading_score\",\"writing_score\")\n",
    "colnames(data) <- names_columns"
   ]
  },
  {
   "cell_type": "markdown",
   "metadata": {
    "papermill": {
     "duration": 0.033248,
     "end_time": "2021-12-08T08:15:22.289790",
     "exception": false,
     "start_time": "2021-12-08T08:15:22.256542",
     "status": "completed"
    },
    "tags": []
   },
   "source": [
    "- Data set has **1000** rows and **8** features\n",
    "- Data set has not missing value"
   ]
  },
  {
   "cell_type": "code",
   "execution_count": 3,
   "metadata": {
    "_kg_hide-input": true,
    "execution": {
     "iopub.execute_input": "2021-12-08T08:15:22.361736Z",
     "iopub.status.busy": "2021-12-08T08:15:22.360247Z",
     "iopub.status.idle": "2021-12-08T08:15:22.392083Z",
     "shell.execute_reply": "2021-12-08T08:15:22.390794Z"
    },
    "papermill": {
     "duration": 0.069134,
     "end_time": "2021-12-08T08:15:22.392221",
     "exception": false,
     "start_time": "2021-12-08T08:15:22.323087",
     "status": "completed"
    },
    "tags": []
   },
   "outputs": [
    {
     "data": {
      "text/html": [
       "<table class=\"dataframe\">\n",
       "<caption>A data.frame: 10 × 8</caption>\n",
       "<thead>\n",
       "\t<tr><th></th><th scope=col>gender</th><th scope=col>race</th><th scope=col>parent_education</th><th scope=col>lunch</th><th scope=col>test_prep</th><th scope=col>math_score</th><th scope=col>reading_score</th><th scope=col>writing_score</th></tr>\n",
       "\t<tr><th></th><th scope=col>&lt;fct&gt;</th><th scope=col>&lt;fct&gt;</th><th scope=col>&lt;fct&gt;</th><th scope=col>&lt;fct&gt;</th><th scope=col>&lt;fct&gt;</th><th scope=col>&lt;int&gt;</th><th scope=col>&lt;int&gt;</th><th scope=col>&lt;int&gt;</th></tr>\n",
       "</thead>\n",
       "<tbody>\n",
       "\t<tr><th scope=row>1</th><td>female</td><td>group B</td><td>bachelor's degree </td><td>standard    </td><td>none     </td><td>72</td><td>72</td><td>74</td></tr>\n",
       "\t<tr><th scope=row>2</th><td>female</td><td>group C</td><td>some college      </td><td>standard    </td><td>completed</td><td>69</td><td>90</td><td>88</td></tr>\n",
       "\t<tr><th scope=row>3</th><td>female</td><td>group B</td><td>master's degree   </td><td>standard    </td><td>none     </td><td>90</td><td>95</td><td>93</td></tr>\n",
       "\t<tr><th scope=row>4</th><td>male  </td><td>group A</td><td>associate's degree</td><td>free/reduced</td><td>none     </td><td>47</td><td>57</td><td>44</td></tr>\n",
       "\t<tr><th scope=row>5</th><td>male  </td><td>group C</td><td>some college      </td><td>standard    </td><td>none     </td><td>76</td><td>78</td><td>75</td></tr>\n",
       "\t<tr><th scope=row>6</th><td>female</td><td>group B</td><td>associate's degree</td><td>standard    </td><td>none     </td><td>71</td><td>83</td><td>78</td></tr>\n",
       "\t<tr><th scope=row>7</th><td>female</td><td>group B</td><td>some college      </td><td>standard    </td><td>completed</td><td>88</td><td>95</td><td>92</td></tr>\n",
       "\t<tr><th scope=row>8</th><td>male  </td><td>group B</td><td>some college      </td><td>free/reduced</td><td>none     </td><td>40</td><td>43</td><td>39</td></tr>\n",
       "\t<tr><th scope=row>9</th><td>male  </td><td>group D</td><td>high school       </td><td>free/reduced</td><td>completed</td><td>64</td><td>64</td><td>67</td></tr>\n",
       "\t<tr><th scope=row>10</th><td>female</td><td>group B</td><td>high school       </td><td>free/reduced</td><td>none     </td><td>38</td><td>60</td><td>50</td></tr>\n",
       "</tbody>\n",
       "</table>\n"
      ],
      "text/latex": [
       "A data.frame: 10 × 8\n",
       "\\begin{tabular}{r|llllllll}\n",
       "  & gender & race & parent\\_education & lunch & test\\_prep & math\\_score & reading\\_score & writing\\_score\\\\\n",
       "  & <fct> & <fct> & <fct> & <fct> & <fct> & <int> & <int> & <int>\\\\\n",
       "\\hline\n",
       "\t1 & female & group B & bachelor's degree  & standard     & none      & 72 & 72 & 74\\\\\n",
       "\t2 & female & group C & some college       & standard     & completed & 69 & 90 & 88\\\\\n",
       "\t3 & female & group B & master's degree    & standard     & none      & 90 & 95 & 93\\\\\n",
       "\t4 & male   & group A & associate's degree & free/reduced & none      & 47 & 57 & 44\\\\\n",
       "\t5 & male   & group C & some college       & standard     & none      & 76 & 78 & 75\\\\\n",
       "\t6 & female & group B & associate's degree & standard     & none      & 71 & 83 & 78\\\\\n",
       "\t7 & female & group B & some college       & standard     & completed & 88 & 95 & 92\\\\\n",
       "\t8 & male   & group B & some college       & free/reduced & none      & 40 & 43 & 39\\\\\n",
       "\t9 & male   & group D & high school        & free/reduced & completed & 64 & 64 & 67\\\\\n",
       "\t10 & female & group B & high school        & free/reduced & none      & 38 & 60 & 50\\\\\n",
       "\\end{tabular}\n"
      ],
      "text/markdown": [
       "\n",
       "A data.frame: 10 × 8\n",
       "\n",
       "| <!--/--> | gender &lt;fct&gt; | race &lt;fct&gt; | parent_education &lt;fct&gt; | lunch &lt;fct&gt; | test_prep &lt;fct&gt; | math_score &lt;int&gt; | reading_score &lt;int&gt; | writing_score &lt;int&gt; |\n",
       "|---|---|---|---|---|---|---|---|---|\n",
       "| 1 | female | group B | bachelor's degree  | standard     | none      | 72 | 72 | 74 |\n",
       "| 2 | female | group C | some college       | standard     | completed | 69 | 90 | 88 |\n",
       "| 3 | female | group B | master's degree    | standard     | none      | 90 | 95 | 93 |\n",
       "| 4 | male   | group A | associate's degree | free/reduced | none      | 47 | 57 | 44 |\n",
       "| 5 | male   | group C | some college       | standard     | none      | 76 | 78 | 75 |\n",
       "| 6 | female | group B | associate's degree | standard     | none      | 71 | 83 | 78 |\n",
       "| 7 | female | group B | some college       | standard     | completed | 88 | 95 | 92 |\n",
       "| 8 | male   | group B | some college       | free/reduced | none      | 40 | 43 | 39 |\n",
       "| 9 | male   | group D | high school        | free/reduced | completed | 64 | 64 | 67 |\n",
       "| 10 | female | group B | high school        | free/reduced | none      | 38 | 60 | 50 |\n",
       "\n"
      ],
      "text/plain": [
       "   gender race    parent_education   lunch        test_prep math_score\n",
       "1  female group B bachelor's degree  standard     none      72        \n",
       "2  female group C some college       standard     completed 69        \n",
       "3  female group B master's degree    standard     none      90        \n",
       "4  male   group A associate's degree free/reduced none      47        \n",
       "5  male   group C some college       standard     none      76        \n",
       "6  female group B associate's degree standard     none      71        \n",
       "7  female group B some college       standard     completed 88        \n",
       "8  male   group B some college       free/reduced none      40        \n",
       "9  male   group D high school        free/reduced completed 64        \n",
       "10 female group B high school        free/reduced none      38        \n",
       "   reading_score writing_score\n",
       "1  72            74           \n",
       "2  90            88           \n",
       "3  95            93           \n",
       "4  57            44           \n",
       "5  78            75           \n",
       "6  83            78           \n",
       "7  95            92           \n",
       "8  43            39           \n",
       "9  64            67           \n",
       "10 60            50           "
      ]
     },
     "metadata": {},
     "output_type": "display_data"
    }
   ],
   "source": [
    "head(data, 10)"
   ]
  },
  {
   "cell_type": "code",
   "execution_count": 4,
   "metadata": {
    "execution": {
     "iopub.execute_input": "2021-12-08T08:15:22.467240Z",
     "iopub.status.busy": "2021-12-08T08:15:22.465938Z",
     "iopub.status.idle": "2021-12-08T08:15:22.486201Z",
     "shell.execute_reply": "2021-12-08T08:15:22.484877Z"
    },
    "papermill": {
     "duration": 0.058724,
     "end_time": "2021-12-08T08:15:22.486344",
     "exception": false,
     "start_time": "2021-12-08T08:15:22.427620",
     "status": "completed"
    },
    "tags": []
   },
   "outputs": [
    {
     "data": {
      "text/plain": [
       "    gender         race               parent_education          lunch    \n",
       " female:518   group A: 89   associate's degree:222     free/reduced:355  \n",
       " male  :482   group B:190   bachelor's degree :118     standard    :645  \n",
       "              group C:319   high school       :196                       \n",
       "              group D:262   master's degree   : 59                       \n",
       "              group E:140   some college      :226                       \n",
       "                            some high school  :179                       \n",
       "     test_prep     math_score     reading_score    writing_score   \n",
       " completed:358   Min.   :  0.00   Min.   : 17.00   Min.   : 10.00  \n",
       " none     :642   1st Qu.: 57.00   1st Qu.: 59.00   1st Qu.: 57.75  \n",
       "                 Median : 66.00   Median : 70.00   Median : 69.00  \n",
       "                 Mean   : 66.09   Mean   : 69.17   Mean   : 68.05  \n",
       "                 3rd Qu.: 77.00   3rd Qu.: 79.00   3rd Qu.: 79.00  \n",
       "                 Max.   :100.00   Max.   :100.00   Max.   :100.00  "
      ]
     },
     "metadata": {},
     "output_type": "display_data"
    }
   ],
   "source": [
    "summary(data)"
   ]
  },
  {
   "cell_type": "code",
   "execution_count": 5,
   "metadata": {
    "execution": {
     "iopub.execute_input": "2021-12-08T08:15:22.561932Z",
     "iopub.status.busy": "2021-12-08T08:15:22.560245Z",
     "iopub.status.idle": "2021-12-08T08:15:22.583426Z",
     "shell.execute_reply": "2021-12-08T08:15:22.582113Z"
    },
    "papermill": {
     "duration": 0.062817,
     "end_time": "2021-12-08T08:15:22.583571",
     "exception": false,
     "start_time": "2021-12-08T08:15:22.520754",
     "status": "completed"
    },
    "tags": []
   },
   "outputs": [
    {
     "name": "stdout",
     "output_type": "stream",
     "text": [
      "'data.frame':\t1000 obs. of  8 variables:\n",
      " $ gender          : Factor w/ 2 levels \"female\",\"male\": 1 1 1 2 2 1 1 2 2 1 ...\n",
      " $ race            : Factor w/ 5 levels \"group A\",\"group B\",..: 2 3 2 1 3 2 2 2 4 2 ...\n",
      " $ parent_education: Factor w/ 6 levels \"associate's degree\",..: 2 5 4 1 5 1 5 5 3 3 ...\n",
      " $ lunch           : Factor w/ 2 levels \"free/reduced\",..: 2 2 2 1 2 2 2 1 1 1 ...\n",
      " $ test_prep       : Factor w/ 2 levels \"completed\",\"none\": 2 1 2 2 2 2 1 2 1 2 ...\n",
      " $ math_score      : int  72 69 90 47 76 71 88 40 64 38 ...\n",
      " $ reading_score   : int  72 90 95 57 78 83 95 43 64 60 ...\n",
      " $ writing_score   : int  74 88 93 44 75 78 92 39 67 50 ...\n"
     ]
    }
   ],
   "source": [
    "str(data)"
   ]
  },
  {
   "cell_type": "code",
   "execution_count": 6,
   "metadata": {
    "execution": {
     "iopub.execute_input": "2021-12-08T08:15:22.659861Z",
     "iopub.status.busy": "2021-12-08T08:15:22.658260Z",
     "iopub.status.idle": "2021-12-08T08:15:22.675317Z",
     "shell.execute_reply": "2021-12-08T08:15:22.673954Z"
    },
    "papermill": {
     "duration": 0.056187,
     "end_time": "2021-12-08T08:15:22.675460",
     "exception": false,
     "start_time": "2021-12-08T08:15:22.619273",
     "status": "completed"
    },
    "tags": []
   },
   "outputs": [
    {
     "data": {
      "text/html": [
       "FALSE"
      ],
      "text/latex": [
       "FALSE"
      ],
      "text/markdown": [
       "FALSE"
      ],
      "text/plain": [
       "[1] FALSE"
      ]
     },
     "metadata": {},
     "output_type": "display_data"
    }
   ],
   "source": [
    "anyNA(data)"
   ]
  },
  {
   "cell_type": "markdown",
   "metadata": {
    "papermill": {
     "duration": 0.035474,
     "end_time": "2021-12-08T08:15:22.746974",
     "exception": false,
     "start_time": "2021-12-08T08:15:22.711500",
     "status": "completed"
    },
    "tags": []
   },
   "source": [
    "- Mathematics exam score average of students : 66.08\n",
    "\n",
    "- Reading exam score average of students : 69.16\n",
    "\n",
    "- Writing exam score average of students : 68.05"
   ]
  },
  {
   "cell_type": "code",
   "execution_count": 7,
   "metadata": {
    "_kg_hide-input": true,
    "execution": {
     "iopub.execute_input": "2021-12-08T08:15:22.824675Z",
     "iopub.status.busy": "2021-12-08T08:15:22.822988Z",
     "iopub.status.idle": "2021-12-08T08:15:22.936100Z",
     "shell.execute_reply": "2021-12-08T08:15:22.934617Z"
    },
    "papermill": {
     "duration": 0.153421,
     "end_time": "2021-12-08T08:15:22.936248",
     "exception": false,
     "start_time": "2021-12-08T08:15:22.782827",
     "status": "completed"
    },
    "tags": []
   },
   "outputs": [
    {
     "data": {
      "text/html": [
       "<table class=\"dataframe\">\n",
       "<caption>A data.frame: 3 × 16</caption>\n",
       "<thead>\n",
       "\t<tr><th scope=col>variable</th><th scope=col>mean</th><th scope=col>std_dev</th><th scope=col>variation_coef</th><th scope=col>p_01</th><th scope=col>p_05</th><th scope=col>p_25</th><th scope=col>p_50</th><th scope=col>p_75</th><th scope=col>p_95</th><th scope=col>p_99</th><th scope=col>skewness</th><th scope=col>kurtosis</th><th scope=col>iqr</th><th scope=col>range_98</th><th scope=col>range_80</th></tr>\n",
       "\t<tr><th scope=col>&lt;chr&gt;</th><th scope=col>&lt;dbl&gt;</th><th scope=col>&lt;dbl&gt;</th><th scope=col>&lt;dbl&gt;</th><th scope=col>&lt;dbl&gt;</th><th scope=col>&lt;dbl&gt;</th><th scope=col>&lt;dbl&gt;</th><th scope=col>&lt;dbl&gt;</th><th scope=col>&lt;dbl&gt;</th><th scope=col>&lt;dbl&gt;</th><th scope=col>&lt;dbl&gt;</th><th scope=col>&lt;dbl&gt;</th><th scope=col>&lt;dbl&gt;</th><th scope=col>&lt;dbl&gt;</th><th scope=col>&lt;chr&gt;</th><th scope=col>&lt;chr&gt;</th></tr>\n",
       "</thead>\n",
       "<tbody>\n",
       "\t<tr><td>math_score   </td><td>66.089</td><td>15.16308</td><td>0.2294342</td><td>27.99</td><td>40.95</td><td>57.00</td><td>66</td><td>77</td><td>90.05</td><td> 98.01</td><td>-0.2785166</td><td>3.267597</td><td>20.00</td><td>[27.99, 98.01]</td><td>[47, 86]  </td></tr>\n",
       "\t<tr><td>reading_score</td><td>69.169</td><td>14.60019</td><td>0.2110800</td><td>31.99</td><td>44.00</td><td>59.00</td><td>70</td><td>79</td><td>92.00</td><td>100.00</td><td>-0.2587157</td><td>2.926081</td><td>20.00</td><td>[31.99, 100]  </td><td>[51, 87.1]</td></tr>\n",
       "\t<tr><td>writing_score</td><td>68.054</td><td>15.19566</td><td>0.2232882</td><td>31.98</td><td>42.95</td><td>57.75</td><td>69</td><td>79</td><td>92.00</td><td>100.00</td><td>-0.2890096</td><td>2.960808</td><td>21.25</td><td>[31.98, 100]  </td><td>[48, 87]  </td></tr>\n",
       "</tbody>\n",
       "</table>\n"
      ],
      "text/latex": [
       "A data.frame: 3 × 16\n",
       "\\begin{tabular}{llllllllllllllll}\n",
       " variable & mean & std\\_dev & variation\\_coef & p\\_01 & p\\_05 & p\\_25 & p\\_50 & p\\_75 & p\\_95 & p\\_99 & skewness & kurtosis & iqr & range\\_98 & range\\_80\\\\\n",
       " <chr> & <dbl> & <dbl> & <dbl> & <dbl> & <dbl> & <dbl> & <dbl> & <dbl> & <dbl> & <dbl> & <dbl> & <dbl> & <dbl> & <chr> & <chr>\\\\\n",
       "\\hline\n",
       "\t math\\_score    & 66.089 & 15.16308 & 0.2294342 & 27.99 & 40.95 & 57.00 & 66 & 77 & 90.05 &  98.01 & -0.2785166 & 3.267597 & 20.00 & {[}27.99, 98.01{]} & {[}47, 86{]}  \\\\\n",
       "\t reading\\_score & 69.169 & 14.60019 & 0.2110800 & 31.99 & 44.00 & 59.00 & 70 & 79 & 92.00 & 100.00 & -0.2587157 & 2.926081 & 20.00 & {[}31.99, 100{]}   & {[}51, 87.1{]}\\\\\n",
       "\t writing\\_score & 68.054 & 15.19566 & 0.2232882 & 31.98 & 42.95 & 57.75 & 69 & 79 & 92.00 & 100.00 & -0.2890096 & 2.960808 & 21.25 & {[}31.98, 100{]}   & {[}48, 87{]}  \\\\\n",
       "\\end{tabular}\n"
      ],
      "text/markdown": [
       "\n",
       "A data.frame: 3 × 16\n",
       "\n",
       "| variable &lt;chr&gt; | mean &lt;dbl&gt; | std_dev &lt;dbl&gt; | variation_coef &lt;dbl&gt; | p_01 &lt;dbl&gt; | p_05 &lt;dbl&gt; | p_25 &lt;dbl&gt; | p_50 &lt;dbl&gt; | p_75 &lt;dbl&gt; | p_95 &lt;dbl&gt; | p_99 &lt;dbl&gt; | skewness &lt;dbl&gt; | kurtosis &lt;dbl&gt; | iqr &lt;dbl&gt; | range_98 &lt;chr&gt; | range_80 &lt;chr&gt; |\n",
       "|---|---|---|---|---|---|---|---|---|---|---|---|---|---|---|---|\n",
       "| math_score    | 66.089 | 15.16308 | 0.2294342 | 27.99 | 40.95 | 57.00 | 66 | 77 | 90.05 |  98.01 | -0.2785166 | 3.267597 | 20.00 | [27.99, 98.01] | [47, 86]   |\n",
       "| reading_score | 69.169 | 14.60019 | 0.2110800 | 31.99 | 44.00 | 59.00 | 70 | 79 | 92.00 | 100.00 | -0.2587157 | 2.926081 | 20.00 | [31.99, 100]   | [51, 87.1] |\n",
       "| writing_score | 68.054 | 15.19566 | 0.2232882 | 31.98 | 42.95 | 57.75 | 69 | 79 | 92.00 | 100.00 | -0.2890096 | 2.960808 | 21.25 | [31.98, 100]   | [48, 87]   |\n",
       "\n"
      ],
      "text/plain": [
       "  variable      mean   std_dev  variation_coef p_01  p_05  p_25  p_50 p_75\n",
       "1 math_score    66.089 15.16308 0.2294342      27.99 40.95 57.00 66   77  \n",
       "2 reading_score 69.169 14.60019 0.2110800      31.99 44.00 59.00 70   79  \n",
       "3 writing_score 68.054 15.19566 0.2232882      31.98 42.95 57.75 69   79  \n",
       "  p_95  p_99   skewness   kurtosis iqr   range_98       range_80  \n",
       "1 90.05  98.01 -0.2785166 3.267597 20.00 [27.99, 98.01] [47, 86]  \n",
       "2 92.00 100.00 -0.2587157 2.926081 20.00 [31.99, 100]   [51, 87.1]\n",
       "3 92.00 100.00 -0.2890096 2.960808 21.25 [31.98, 100]   [48, 87]  "
      ]
     },
     "metadata": {},
     "output_type": "display_data"
    }
   ],
   "source": [
    "profiling_num(data)"
   ]
  },
  {
   "cell_type": "code",
   "execution_count": 8,
   "metadata": {
    "_kg_hide-input": true,
    "execution": {
     "iopub.execute_input": "2021-12-08T08:15:23.016631Z",
     "iopub.status.busy": "2021-12-08T08:15:23.015713Z",
     "iopub.status.idle": "2021-12-08T08:15:23.860840Z",
     "shell.execute_reply": "2021-12-08T08:15:23.858960Z"
    },
    "papermill": {
     "duration": 0.888187,
     "end_time": "2021-12-08T08:15:23.861003",
     "exception": false,
     "start_time": "2021-12-08T08:15:22.972816",
     "status": "completed"
    },
    "tags": []
   },
   "outputs": [
    {
     "data": {
      "image/png": "[encoded data removed]"
     },
     "metadata": {
      "image/png": {
       "height": 420,
       "width": 420
      }
     },
     "output_type": "display_data"
    }
   ],
   "source": [
    "plot_num(data)"
   ]
  },
  {
   "cell_type": "markdown",
   "metadata": {
    "papermill": {
     "duration": 0.037593,
     "end_time": "2021-12-08T08:15:23.936937",
     "exception": false,
     "start_time": "2021-12-08T08:15:23.899344",
     "status": "completed"
    },
    "tags": []
   },
   "source": [
    "- While 51.8% of the students are female, 48.2% are male students."
   ]
  },
  {
   "cell_type": "code",
   "execution_count": 9,
   "metadata": {
    "_kg_hide-input": true,
    "execution": {
     "iopub.execute_input": "2021-12-08T08:15:24.018563Z",
     "iopub.status.busy": "2021-12-08T08:15:24.016713Z",
     "iopub.status.idle": "2021-12-08T08:15:24.316022Z",
     "shell.execute_reply": "2021-12-08T08:15:24.315424Z"
    },
    "papermill": {
     "duration": 0.341634,
     "end_time": "2021-12-08T08:15:24.316163",
     "exception": false,
     "start_time": "2021-12-08T08:15:23.974529",
     "status": "completed"
    },
    "tags": []
   },
   "outputs": [
    {
     "data": {
      "text/html": [
       "<table class=\"dataframe\">\n",
       "<caption>A data.frame: 2 × 4</caption>\n",
       "<thead>\n",
       "\t<tr><th scope=col>var</th><th scope=col>frequency</th><th scope=col>percentage</th><th scope=col>cumulative_perc</th></tr>\n",
       "\t<tr><th scope=col>&lt;chr&gt;</th><th scope=col>&lt;int&gt;</th><th scope=col>&lt;dbl&gt;</th><th scope=col>&lt;dbl&gt;</th></tr>\n",
       "</thead>\n",
       "<tbody>\n",
       "\t<tr><td>female</td><td>518</td><td>51.8</td><td> 51.8</td></tr>\n",
       "\t<tr><td>male  </td><td>482</td><td>48.2</td><td>100.0</td></tr>\n",
       "</tbody>\n",
       "</table>\n"
      ],
      "text/latex": [
       "A data.frame: 2 × 4\n",
       "\\begin{tabular}{llll}\n",
       " var & frequency & percentage & cumulative\\_perc\\\\\n",
       " <chr> & <int> & <dbl> & <dbl>\\\\\n",
       "\\hline\n",
       "\t female & 518 & 51.8 &  51.8\\\\\n",
       "\t male   & 482 & 48.2 & 100.0\\\\\n",
       "\\end{tabular}\n"
      ],
      "text/markdown": [
       "\n",
       "A data.frame: 2 × 4\n",
       "\n",
       "| var &lt;chr&gt; | frequency &lt;int&gt; | percentage &lt;dbl&gt; | cumulative_perc &lt;dbl&gt; |\n",
       "|---|---|---|---|\n",
       "| female | 518 | 51.8 |  51.8 |\n",
       "| male   | 482 | 48.2 | 100.0 |\n",
       "\n"
      ],
      "text/plain": [
       "  var    frequency percentage cumulative_perc\n",
       "1 female 518       51.8        51.8          \n",
       "2 male   482       48.2       100.0          "
      ]
     },
     "metadata": {},
     "output_type": "display_data"
    },
    {
     "data": {
      "image/png": "[encoded data removed]"
     },
     "metadata": {
      "image/png": {
       "height": 420,
       "width": 420
      }
     },
     "output_type": "display_data"
    }
   ],
   "source": [
    "freq(data$gender)"
   ]
  },
  {
   "cell_type": "markdown",
   "metadata": {
    "papermill": {
     "duration": 0.039218,
     "end_time": "2021-12-08T08:15:24.399059",
     "exception": false,
     "start_time": "2021-12-08T08:15:24.359841",
     "status": "completed"
    },
    "tags": []
   },
   "source": [
    "- The most common race ethnicity is Group C, while the least common is Group A."
   ]
  },
  {
   "cell_type": "code",
   "execution_count": 10,
   "metadata": {
    "_kg_hide-input": true,
    "execution": {
     "iopub.execute_input": "2021-12-08T08:15:24.490142Z",
     "iopub.status.busy": "2021-12-08T08:15:24.488156Z",
     "iopub.status.idle": "2021-12-08T08:15:24.746362Z",
     "shell.execute_reply": "2021-12-08T08:15:24.744759Z"
    },
    "papermill": {
     "duration": 0.307372,
     "end_time": "2021-12-08T08:15:24.746525",
     "exception": false,
     "start_time": "2021-12-08T08:15:24.439153",
     "status": "completed"
    },
    "tags": []
   },
   "outputs": [
    {
     "data": {
      "text/html": [
       "<table class=\"dataframe\">\n",
       "<caption>A data.frame: 5 × 4</caption>\n",
       "<thead>\n",
       "\t<tr><th scope=col>var</th><th scope=col>frequency</th><th scope=col>percentage</th><th scope=col>cumulative_perc</th></tr>\n",
       "\t<tr><th scope=col>&lt;chr&gt;</th><th scope=col>&lt;int&gt;</th><th scope=col>&lt;dbl&gt;</th><th scope=col>&lt;dbl&gt;</th></tr>\n",
       "</thead>\n",
       "<tbody>\n",
       "\t<tr><td>group C</td><td>319</td><td>31.9</td><td> 31.9</td></tr>\n",
       "\t<tr><td>group D</td><td>262</td><td>26.2</td><td> 58.1</td></tr>\n",
       "\t<tr><td>group B</td><td>190</td><td>19.0</td><td> 77.1</td></tr>\n",
       "\t<tr><td>group E</td><td>140</td><td>14.0</td><td> 91.1</td></tr>\n",
       "\t<tr><td>group A</td><td> 89</td><td> 8.9</td><td>100.0</td></tr>\n",
       "</tbody>\n",
       "</table>\n"
      ],
      "text/latex": [
       "A data.frame: 5 × 4\n",
       "\\begin{tabular}{llll}\n",
       " var & frequency & percentage & cumulative\\_perc\\\\\n",
       " <chr> & <int> & <dbl> & <dbl>\\\\\n",
       "\\hline\n",
       "\t group C & 319 & 31.9 &  31.9\\\\\n",
       "\t group D & 262 & 26.2 &  58.1\\\\\n",
       "\t group B & 190 & 19.0 &  77.1\\\\\n",
       "\t group E & 140 & 14.0 &  91.1\\\\\n",
       "\t group A &  89 &  8.9 & 100.0\\\\\n",
       "\\end{tabular}\n"
      ],
      "text/markdown": [
       "\n",
       "A data.frame: 5 × 4\n",
       "\n",
       "| var &lt;chr&gt; | frequency &lt;int&gt; | percentage &lt;dbl&gt; | cumulative_perc &lt;dbl&gt; |\n",
       "|---|---|---|---|\n",
       "| group C | 319 | 31.9 |  31.9 |\n",
       "| group D | 262 | 26.2 |  58.1 |\n",
       "| group B | 190 | 19.0 |  77.1 |\n",
       "| group E | 140 | 14.0 |  91.1 |\n",
       "| group A |  89 |  8.9 | 100.0 |\n",
       "\n"
      ],
      "text/plain": [
       "  var     frequency percentage cumulative_perc\n",
       "1 group C 319       31.9        31.9          \n",
       "2 group D 262       26.2        58.1          \n",
       "3 group B 190       19.0        77.1          \n",
       "4 group E 140       14.0        91.1          \n",
       "5 group A  89        8.9       100.0          "
      ]
     },
     "metadata": {},
     "output_type": "display_data"
    },
    {
     "data": {
      "image/png": "[encoded data removed]"
     },
     "metadata": {
      "image/png": {
       "height": 420,
       "width": 420
      }
     },
     "output_type": "display_data"
    }
   ],
   "source": [
    "freq(data$race)"
   ]
  },
  {
   "cell_type": "markdown",
   "metadata": {
    "papermill": {
     "duration": 0.04079,
     "end_time": "2021-12-08T08:15:24.828455",
     "exception": false,
     "start_time": "2021-12-08T08:15:24.787665",
     "status": "completed"
    },
    "tags": []
   },
   "source": [
    "- The parent education level variable of the students consists of 6 categories. "
   ]
  },
  {
   "cell_type": "code",
   "execution_count": 11,
   "metadata": {
    "_kg_hide-input": true,
    "execution": {
     "iopub.execute_input": "2021-12-08T08:15:24.916863Z",
     "iopub.status.busy": "2021-12-08T08:15:24.915203Z",
     "iopub.status.idle": "2021-12-08T08:15:25.180260Z",
     "shell.execute_reply": "2021-12-08T08:15:25.179763Z"
    },
    "papermill": {
     "duration": 0.311291,
     "end_time": "2021-12-08T08:15:25.180394",
     "exception": false,
     "start_time": "2021-12-08T08:15:24.869103",
     "status": "completed"
    },
    "tags": []
   },
   "outputs": [
    {
     "data": {
      "text/html": [
       "<table class=\"dataframe\">\n",
       "<caption>A data.frame: 6 × 4</caption>\n",
       "<thead>\n",
       "\t<tr><th scope=col>var</th><th scope=col>frequency</th><th scope=col>percentage</th><th scope=col>cumulative_perc</th></tr>\n",
       "\t<tr><th scope=col>&lt;chr&gt;</th><th scope=col>&lt;int&gt;</th><th scope=col>&lt;dbl&gt;</th><th scope=col>&lt;dbl&gt;</th></tr>\n",
       "</thead>\n",
       "<tbody>\n",
       "\t<tr><td>some college      </td><td>226</td><td>22.6</td><td> 22.6</td></tr>\n",
       "\t<tr><td>associate's degree</td><td>222</td><td>22.2</td><td> 44.8</td></tr>\n",
       "\t<tr><td>high school       </td><td>196</td><td>19.6</td><td> 64.4</td></tr>\n",
       "\t<tr><td>some high school  </td><td>179</td><td>17.9</td><td> 82.3</td></tr>\n",
       "\t<tr><td>bachelor's degree </td><td>118</td><td>11.8</td><td> 94.1</td></tr>\n",
       "\t<tr><td>master's degree   </td><td> 59</td><td> 5.9</td><td>100.0</td></tr>\n",
       "</tbody>\n",
       "</table>\n"
      ],
      "text/latex": [
       "A data.frame: 6 × 4\n",
       "\\begin{tabular}{llll}\n",
       " var & frequency & percentage & cumulative\\_perc\\\\\n",
       " <chr> & <int> & <dbl> & <dbl>\\\\\n",
       "\\hline\n",
       "\t some college       & 226 & 22.6 &  22.6\\\\\n",
       "\t associate's degree & 222 & 22.2 &  44.8\\\\\n",
       "\t high school        & 196 & 19.6 &  64.4\\\\\n",
       "\t some high school   & 179 & 17.9 &  82.3\\\\\n",
       "\t bachelor's degree  & 118 & 11.8 &  94.1\\\\\n",
       "\t master's degree    &  59 &  5.9 & 100.0\\\\\n",
       "\\end{tabular}\n"
      ],
      "text/markdown": [
       "\n",
       "A data.frame: 6 × 4\n",
       "\n",
       "| var &lt;chr&gt; | frequency &lt;int&gt; | percentage &lt;dbl&gt; | cumulative_perc &lt;dbl&gt; |\n",
       "|---|---|---|---|\n",
       "| some college       | 226 | 22.6 |  22.6 |\n",
       "| associate's degree | 222 | 22.2 |  44.8 |\n",
       "| high school        | 196 | 19.6 |  64.4 |\n",
       "| some high school   | 179 | 17.9 |  82.3 |\n",
       "| bachelor's degree  | 118 | 11.8 |  94.1 |\n",
       "| master's degree    |  59 |  5.9 | 100.0 |\n",
       "\n"
      ],
      "text/plain": [
       "  var                frequency percentage cumulative_perc\n",
       "1 some college       226       22.6        22.6          \n",
       "2 associate's degree 222       22.2        44.8          \n",
       "3 high school        196       19.6        64.4          \n",
       "4 some high school   179       17.9        82.3          \n",
       "5 bachelor's degree  118       11.8        94.1          \n",
       "6 master's degree     59        5.9       100.0          "
      ]
     },
     "metadata": {},
     "output_type": "display_data"
    },
    {
     "data": {
      "image/png": "[encoded data removed]"
     },
     "metadata": {
      "image/png": {
       "height": 420,
       "width": 420
      }
     },
     "output_type": "display_data"
    }
   ],
   "source": [
    "freq(data$parent_education)"
   ]
  },
  {
   "cell_type": "markdown",
   "metadata": {
    "papermill": {
     "duration": 0.043575,
     "end_time": "2021-12-08T08:15:25.267508",
     "exception": false,
     "start_time": "2021-12-08T08:15:25.223933",
     "status": "completed"
    },
    "tags": []
   },
   "source": [
    "- 64.5% of the students eat lunch at standard price and 35.5% eat free/reduced lunch"
   ]
  },
  {
   "cell_type": "code",
   "execution_count": 12,
   "metadata": {
    "_kg_hide-input": true,
    "execution": {
     "iopub.execute_input": "2021-12-08T08:15:25.359754Z",
     "iopub.status.busy": "2021-12-08T08:15:25.358333Z",
     "iopub.status.idle": "2021-12-08T08:15:25.599349Z",
     "shell.execute_reply": "2021-12-08T08:15:25.598111Z"
    },
    "papermill": {
     "duration": 0.288757,
     "end_time": "2021-12-08T08:15:25.599489",
     "exception": false,
     "start_time": "2021-12-08T08:15:25.310732",
     "status": "completed"
    },
    "tags": []
   },
   "outputs": [
    {
     "data": {
      "text/html": [
       "<table class=\"dataframe\">\n",
       "<caption>A data.frame: 2 × 4</caption>\n",
       "<thead>\n",
       "\t<tr><th scope=col>var</th><th scope=col>frequency</th><th scope=col>percentage</th><th scope=col>cumulative_perc</th></tr>\n",
       "\t<tr><th scope=col>&lt;chr&gt;</th><th scope=col>&lt;int&gt;</th><th scope=col>&lt;dbl&gt;</th><th scope=col>&lt;dbl&gt;</th></tr>\n",
       "</thead>\n",
       "<tbody>\n",
       "\t<tr><td>standard    </td><td>645</td><td>64.5</td><td> 64.5</td></tr>\n",
       "\t<tr><td>free/reduced</td><td>355</td><td>35.5</td><td>100.0</td></tr>\n",
       "</tbody>\n",
       "</table>\n"
      ],
      "text/latex": [
       "A data.frame: 2 × 4\n",
       "\\begin{tabular}{llll}\n",
       " var & frequency & percentage & cumulative\\_perc\\\\\n",
       " <chr> & <int> & <dbl> & <dbl>\\\\\n",
       "\\hline\n",
       "\t standard     & 645 & 64.5 &  64.5\\\\\n",
       "\t free/reduced & 355 & 35.5 & 100.0\\\\\n",
       "\\end{tabular}\n"
      ],
      "text/markdown": [
       "\n",
       "A data.frame: 2 × 4\n",
       "\n",
       "| var &lt;chr&gt; | frequency &lt;int&gt; | percentage &lt;dbl&gt; | cumulative_perc &lt;dbl&gt; |\n",
       "|---|---|---|---|\n",
       "| standard     | 645 | 64.5 |  64.5 |\n",
       "| free/reduced | 355 | 35.5 | 100.0 |\n",
       "\n"
      ],
      "text/plain": [
       "  var          frequency percentage cumulative_perc\n",
       "1 standard     645       64.5        64.5          \n",
       "2 free/reduced 355       35.5       100.0          "
      ]
     },
     "metadata": {},
     "output_type": "display_data"
    },
    {
     "data": {
      "image/png": "[encoded data removed]"
     },
     "metadata": {
      "image/png": {
       "height": 420,
       "width": 420
      }
     },
     "output_type": "display_data"
    }
   ],
   "source": [
    "freq(data$lunch)"
   ]
  },
  {
   "cell_type": "markdown",
   "metadata": {
    "papermill": {
     "duration": 0.044664,
     "end_time": "2021-12-08T08:15:25.689498",
     "exception": false,
     "start_time": "2021-12-08T08:15:25.644834",
     "status": "completed"
    },
    "tags": []
   },
   "source": [
    "- While 642 of the students did not complete the exam preparation course, 358 student did."
   ]
  },
  {
   "cell_type": "code",
   "execution_count": 13,
   "metadata": {
    "_kg_hide-input": true,
    "execution": {
     "iopub.execute_input": "2021-12-08T08:15:25.783984Z",
     "iopub.status.busy": "2021-12-08T08:15:25.782565Z",
     "iopub.status.idle": "2021-12-08T08:15:26.031989Z",
     "shell.execute_reply": "2021-12-08T08:15:26.030644Z"
    },
    "papermill": {
     "duration": 0.29786,
     "end_time": "2021-12-08T08:15:26.032132",
     "exception": false,
     "start_time": "2021-12-08T08:15:25.734272",
     "status": "completed"
    },
    "tags": []
   },
   "outputs": [
    {
     "data": {
      "text/html": [
       "<table class=\"dataframe\">\n",
       "<caption>A data.frame: 2 × 4</caption>\n",
       "<thead>\n",
       "\t<tr><th scope=col>var</th><th scope=col>frequency</th><th scope=col>percentage</th><th scope=col>cumulative_perc</th></tr>\n",
       "\t<tr><th scope=col>&lt;chr&gt;</th><th scope=col>&lt;int&gt;</th><th scope=col>&lt;dbl&gt;</th><th scope=col>&lt;dbl&gt;</th></tr>\n",
       "</thead>\n",
       "<tbody>\n",
       "\t<tr><td>none     </td><td>642</td><td>64.2</td><td> 64.2</td></tr>\n",
       "\t<tr><td>completed</td><td>358</td><td>35.8</td><td>100.0</td></tr>\n",
       "</tbody>\n",
       "</table>\n"
      ],
      "text/latex": [
       "A data.frame: 2 × 4\n",
       "\\begin{tabular}{llll}\n",
       " var & frequency & percentage & cumulative\\_perc\\\\\n",
       " <chr> & <int> & <dbl> & <dbl>\\\\\n",
       "\\hline\n",
       "\t none      & 642 & 64.2 &  64.2\\\\\n",
       "\t completed & 358 & 35.8 & 100.0\\\\\n",
       "\\end{tabular}\n"
      ],
      "text/markdown": [
       "\n",
       "A data.frame: 2 × 4\n",
       "\n",
       "| var &lt;chr&gt; | frequency &lt;int&gt; | percentage &lt;dbl&gt; | cumulative_perc &lt;dbl&gt; |\n",
       "|---|---|---|---|\n",
       "| none      | 642 | 64.2 |  64.2 |\n",
       "| completed | 358 | 35.8 | 100.0 |\n",
       "\n"
      ],
      "text/plain": [
       "  var       frequency percentage cumulative_perc\n",
       "1 none      642       64.2        64.2          \n",
       "2 completed 358       35.8       100.0          "
      ]
     },
     "metadata": {},
     "output_type": "display_data"
    },
    {
     "data": {
      "image/png": "[encoded data removed]"
     },
     "metadata": {
      "image/png": {
       "height": 420,
       "width": 420
      }
     },
     "output_type": "display_data"
    }
   ],
   "source": [
    "freq(data$test_prep)"
   ]
  },
  {
   "cell_type": "code",
   "execution_count": 14,
   "metadata": {
    "_kg_hide-input": true,
    "execution": {
     "iopub.execute_input": "2021-12-08T08:15:26.147685Z",
     "iopub.status.busy": "2021-12-08T08:15:26.145211Z",
     "iopub.status.idle": "2021-12-08T08:15:26.713278Z",
     "shell.execute_reply": "2021-12-08T08:15:26.711547Z"
    },
    "papermill": {
     "duration": 0.634308,
     "end_time": "2021-12-08T08:15:26.713450",
     "exception": false,
     "start_time": "2021-12-08T08:15:26.079142",
     "status": "completed"
    },
    "tags": []
   },
   "outputs": [
    {
     "name": "stderr",
     "output_type": "stream",
     "text": [
      "Warning message:\n",
      "“Use of `data$gender` is discouraged. Use `gender` instead.”\n",
      "Warning message:\n",
      "“Use of `data$race` is discouraged. Use `race` instead.”\n"
     ]
    },
    {
     "data": {
      "image/png": "[encoded data removed]"
     },
     "metadata": {
      "image/png": {
       "height": 420,
       "width": 420
      }
     },
     "output_type": "display_data"
    }
   ],
   "source": [
    "ggplot(data,aes(data$gender, fill=data$race))+\n",
    "  geom_bar(position=position_dodge())+\n",
    "  ggtitle(\"Ethnic Group distribution by Gender\")+\n",
    "  xlab(\"Gender\")+\n",
    "  ylab(\"Frequency\")"
   ]
  },
  {
   "cell_type": "markdown",
   "metadata": {
    "papermill": {
     "duration": 0.048402,
     "end_time": "2021-12-08T08:15:26.813561",
     "exception": false,
     "start_time": "2021-12-08T08:15:26.765159",
     "status": "completed"
    },
    "tags": []
   },
   "source": [
    "# T-Test"
   ]
  },
  {
   "cell_type": "code",
   "execution_count": 15,
   "metadata": {
    "_kg_hide-input": true,
    "_kg_hide-output": true,
    "execution": {
     "iopub.execute_input": "2021-12-08T08:15:26.916239Z",
     "iopub.status.busy": "2021-12-08T08:15:26.914460Z",
     "iopub.status.idle": "2021-12-08T08:15:26.932451Z",
     "shell.execute_reply": "2021-12-08T08:15:26.930967Z"
    },
    "papermill": {
     "duration": 0.070403,
     "end_time": "2021-12-08T08:15:26.932641",
     "exception": false,
     "start_time": "2021-12-08T08:15:26.862238",
     "status": "completed"
    },
    "tags": []
   },
   "outputs": [],
   "source": [
    "attach(data)"
   ]
  },
  {
   "cell_type": "markdown",
   "metadata": {
    "papermill": {
     "duration": 0.049011,
     "end_time": "2021-12-08T08:15:27.030352",
     "exception": false,
     "start_time": "2021-12-08T08:15:26.981341",
     "status": "completed"
    },
    "tags": []
   },
   "source": [
    "## **Are there any differences between the exam scores of female and male students?**\n",
    "\n",
    "$ H_0 $: There is no difference between the mathematics scores of male and female students.\n",
    "\n",
    "$ H_1 $: There is a difference between the mathematics scores of male and female students.\n",
    "\n",
    "**t=-5.398 p value < 0.05**\n",
    "\n",
    "$H_0$ is rejected. There is a difference between gender and math test score."
   ]
  },
  {
   "cell_type": "code",
   "execution_count": 16,
   "metadata": {
    "execution": {
     "iopub.execute_input": "2021-12-08T08:15:27.138645Z",
     "iopub.status.busy": "2021-12-08T08:15:27.136666Z",
     "iopub.status.idle": "2021-12-08T08:15:27.160844Z",
     "shell.execute_reply": "2021-12-08T08:15:27.159549Z"
    },
    "papermill": {
     "duration": 0.080643,
     "end_time": "2021-12-08T08:15:27.160988",
     "exception": false,
     "start_time": "2021-12-08T08:15:27.080345",
     "status": "completed"
    },
    "tags": []
   },
   "outputs": [
    {
     "data": {
      "text/plain": [
       "\n",
       "\tTwo Sample t-test\n",
       "\n",
       "data:  math_score by gender\n",
       "t = -5.3832, df = 998, p-value = 9.12e-08\n",
       "alternative hypothesis: true difference in means is not equal to 0\n",
       "95 percent confidence interval:\n",
       " -6.952285 -3.237737\n",
       "sample estimates:\n",
       "mean in group female   mean in group male \n",
       "            63.63320             68.72822 \n"
      ]
     },
     "metadata": {},
     "output_type": "display_data"
    }
   ],
   "source": [
    "t.test(math_score~gender, var.equal=TRUE)"
   ]
  },
  {
   "cell_type": "markdown",
   "metadata": {
    "papermill": {
     "duration": 0.048832,
     "end_time": "2021-12-08T08:15:27.259225",
     "exception": false,
     "start_time": "2021-12-08T08:15:27.210393",
     "status": "completed"
    },
    "tags": []
   },
   "source": [
    "$ H_0 $: There is no difference between the reading scores of male and female students.\n",
    "\n",
    "$ H_1 $: There is a difference between the reading scores of male and female students.\n",
    "\n",
    "**t=7.9593 p value <0.05**\n",
    "\n",
    "$H_0$ is rejected. There is a difference between gender and reading test score."
   ]
  },
  {
   "cell_type": "code",
   "execution_count": 17,
   "metadata": {
    "execution": {
     "iopub.execute_input": "2021-12-08T08:15:27.363983Z",
     "iopub.status.busy": "2021-12-08T08:15:27.362236Z",
     "iopub.status.idle": "2021-12-08T08:15:27.381832Z",
     "shell.execute_reply": "2021-12-08T08:15:27.380402Z"
    },
    "papermill": {
     "duration": 0.074041,
     "end_time": "2021-12-08T08:15:27.382034",
     "exception": false,
     "start_time": "2021-12-08T08:15:27.307993",
     "status": "completed"
    },
    "tags": []
   },
   "outputs": [
    {
     "data": {
      "text/plain": [
       "\n",
       "\tTwo Sample t-test\n",
       "\n",
       "data:  reading_score by gender\n",
       "t = 7.9593, df = 998, p-value = 4.681e-15\n",
       "alternative hypothesis: true difference in means is not equal to 0\n",
       "95 percent confidence interval:\n",
       " 5.375946 8.894212\n",
       "sample estimates:\n",
       "mean in group female   mean in group male \n",
       "            72.60811             65.47303 \n"
      ]
     },
     "metadata": {},
     "output_type": "display_data"
    }
   ],
   "source": [
    "t.test(reading_score~gender, var.equal=TRUE, data=data)"
   ]
  },
  {
   "cell_type": "markdown",
   "metadata": {
    "papermill": {
     "duration": 0.049255,
     "end_time": "2021-12-08T08:15:27.481213",
     "exception": false,
     "start_time": "2021-12-08T08:15:27.431958",
     "status": "completed"
    },
    "tags": []
   },
   "source": [
    "$ H_0 $: There is no difference between the writing scores of male and female students.\n",
    "\n",
    "$ H_1 $: There is a difference between the writing scores of male and female students.\n",
    "\n",
    "**t=9.9796 p value <0.05**\n",
    "\n",
    "$H_0$ is rejected. There is a difference between gender and writing test score."
   ]
  },
  {
   "cell_type": "code",
   "execution_count": 18,
   "metadata": {
    "execution": {
     "iopub.execute_input": "2021-12-08T08:15:27.584676Z",
     "iopub.status.busy": "2021-12-08T08:15:27.583464Z",
     "iopub.status.idle": "2021-12-08T08:15:27.601046Z",
     "shell.execute_reply": "2021-12-08T08:15:27.599818Z"
    },
    "papermill": {
     "duration": 0.070754,
     "end_time": "2021-12-08T08:15:27.601192",
     "exception": false,
     "start_time": "2021-12-08T08:15:27.530438",
     "status": "completed"
    },
    "tags": []
   },
   "outputs": [
    {
     "data": {
      "text/plain": [
       "\n",
       "\tTwo Sample t-test\n",
       "\n",
       "data:  writing_score by gender\n",
       "t = 9.9796, df = 998, p-value < 2.2e-16\n",
       "alternative hypothesis: true difference in means is not equal to 0\n",
       "95 percent confidence interval:\n",
       "  7.35558 10.95638\n",
       "sample estimates:\n",
       "mean in group female   mean in group male \n",
       "            72.46718             63.31120 \n"
      ]
     },
     "metadata": {},
     "output_type": "display_data"
    }
   ],
   "source": [
    "t.test(writing_score~gender,var.equal=TRUE )"
   ]
  },
  {
   "cell_type": "markdown",
   "metadata": {
    "papermill": {
     "duration": 0.049338,
     "end_time": "2021-12-08T08:15:27.700260",
     "exception": false,
     "start_time": "2021-12-08T08:15:27.650922",
     "status": "completed"
    },
    "tags": []
   },
   "source": [
    "# chi-square\n",
    "\n",
    "\n",
    "$ H_0 $: Completing the test preparation course is not related to gender.\n",
    "\n",
    "$ H_1 $: Completing the test preparation course is related to gender.\n",
    "\n",
    "**p value =0.9>0.05**\n",
    "\n",
    "$H_0$ is accepted."
   ]
  },
  {
   "cell_type": "code",
   "execution_count": 19,
   "metadata": {
    "execution": {
     "iopub.execute_input": "2021-12-08T08:15:27.804145Z",
     "iopub.status.busy": "2021-12-08T08:15:27.802572Z",
     "iopub.status.idle": "2021-12-08T08:15:27.825883Z",
     "shell.execute_reply": "2021-12-08T08:15:27.824554Z"
    },
    "papermill": {
     "duration": 0.076482,
     "end_time": "2021-12-08T08:15:27.826039",
     "exception": false,
     "start_time": "2021-12-08T08:15:27.749557",
     "status": "completed"
    },
    "tags": []
   },
   "outputs": [
    {
     "data": {
      "text/plain": [
       "\n",
       "\tPearson's Chi-squared test with Yates' continuity correction\n",
       "\n",
       "data:  xtab\n",
       "X-squared = 0.015529, df = 1, p-value = 0.9008\n"
      ]
     },
     "metadata": {},
     "output_type": "display_data"
    }
   ],
   "source": [
    "xtab<- table(gender, test_prep)\n",
    "\n",
    "chisq.test(xtab)"
   ]
  },
  {
   "cell_type": "markdown",
   "metadata": {
    "papermill": {
     "duration": 0.051827,
     "end_time": "2021-12-08T08:15:27.928432",
     "exception": false,
     "start_time": "2021-12-08T08:15:27.876605",
     "status": "completed"
    },
    "tags": []
   },
   "source": [
    "$ H_0 $: Lunch eating status is not related to gender.\n",
    "\n",
    "$ H_1 $: Lunch eating status is related to gender.\n",
    "\n",
    "**p value=0.5421>0.05** \n",
    "\n",
    "$H_0$ is accepted."
   ]
  },
  {
   "cell_type": "code",
   "execution_count": 20,
   "metadata": {
    "execution": {
     "iopub.execute_input": "2021-12-08T08:15:28.032923Z",
     "iopub.status.busy": "2021-12-08T08:15:28.031420Z",
     "iopub.status.idle": "2021-12-08T08:15:28.051659Z",
     "shell.execute_reply": "2021-12-08T08:15:28.050331Z"
    },
    "papermill": {
     "duration": 0.074015,
     "end_time": "2021-12-08T08:15:28.051812",
     "exception": false,
     "start_time": "2021-12-08T08:15:27.977797",
     "status": "completed"
    },
    "tags": []
   },
   "outputs": [
    {
     "data": {
      "text/plain": [
       "\n",
       "\tPearson's Chi-squared test with Yates' continuity correction\n",
       "\n",
       "data:  xtab\n",
       "X-squared = 0.37174, df = 1, p-value = 0.5421\n"
      ]
     },
     "metadata": {},
     "output_type": "display_data"
    }
   ],
   "source": [
    "xtab<- table(gender, lunch)\n",
    "\n",
    "chisq.test(xtab)"
   ]
  },
  {
   "cell_type": "markdown",
   "metadata": {
    "papermill": {
     "duration": 0.050327,
     "end_time": "2021-12-08T08:15:28.153673",
     "exception": false,
     "start_time": "2021-12-08T08:15:28.103346",
     "status": "completed"
    },
    "tags": []
   },
   "source": [
    "# Correlation"
   ]
  },
  {
   "cell_type": "markdown",
   "metadata": {
    "papermill": {
     "duration": 0.050336,
     "end_time": "2021-12-08T08:15:28.254370",
     "exception": false,
     "start_time": "2021-12-08T08:15:28.204034",
     "status": "completed"
    },
    "tags": []
   },
   "source": [
    "* There is a strong positive correlation between the variables."
   ]
  },
  {
   "cell_type": "code",
   "execution_count": 21,
   "metadata": {
    "_kg_hide-input": true,
    "execution": {
     "iopub.execute_input": "2021-12-08T08:15:28.360495Z",
     "iopub.status.busy": "2021-12-08T08:15:28.358798Z",
     "iopub.status.idle": "2021-12-08T08:15:28.383958Z",
     "shell.execute_reply": "2021-12-08T08:15:28.382677Z"
    },
    "papermill": {
     "duration": 0.079473,
     "end_time": "2021-12-08T08:15:28.384098",
     "exception": false,
     "start_time": "2021-12-08T08:15:28.304625",
     "status": "completed"
    },
    "tags": []
   },
   "outputs": [
    {
     "data": {
      "text/html": [
       "<table class=\"dataframe\">\n",
       "<caption>A matrix: 3 × 3 of type dbl</caption>\n",
       "<thead>\n",
       "\t<tr><th></th><th scope=col>math_score</th><th scope=col>reading_score</th><th scope=col>writing_score</th></tr>\n",
       "</thead>\n",
       "<tbody>\n",
       "\t<tr><th scope=row>math_score</th><td>1.0000000</td><td>0.8175797</td><td>0.8026420</td></tr>\n",
       "\t<tr><th scope=row>reading_score</th><td>0.8175797</td><td>1.0000000</td><td>0.9545981</td></tr>\n",
       "\t<tr><th scope=row>writing_score</th><td>0.8026420</td><td>0.9545981</td><td>1.0000000</td></tr>\n",
       "</tbody>\n",
       "</table>\n"
      ],
      "text/latex": [
       "A matrix: 3 × 3 of type dbl\n",
       "\\begin{tabular}{r|lll}\n",
       "  & math\\_score & reading\\_score & writing\\_score\\\\\n",
       "\\hline\n",
       "\tmath\\_score & 1.0000000 & 0.8175797 & 0.8026420\\\\\n",
       "\treading\\_score & 0.8175797 & 1.0000000 & 0.9545981\\\\\n",
       "\twriting\\_score & 0.8026420 & 0.9545981 & 1.0000000\\\\\n",
       "\\end{tabular}\n"
      ],
      "text/markdown": [
       "\n",
       "A matrix: 3 × 3 of type dbl\n",
       "\n",
       "| <!--/--> | math_score | reading_score | writing_score |\n",
       "|---|---|---|---|\n",
       "| math_score | 1.0000000 | 0.8175797 | 0.8026420 |\n",
       "| reading_score | 0.8175797 | 1.0000000 | 0.9545981 |\n",
       "| writing_score | 0.8026420 | 0.9545981 | 1.0000000 |\n",
       "\n"
      ],
      "text/plain": [
       "              math_score reading_score writing_score\n",
       "math_score    1.0000000  0.8175797     0.8026420    \n",
       "reading_score 0.8175797  1.0000000     0.9545981    \n",
       "writing_score 0.8026420  0.9545981     1.0000000    "
      ]
     },
     "metadata": {},
     "output_type": "display_data"
    }
   ],
   "source": [
    "num_data <- data[, c( \"math_score\", \"reading_score\", \"writing_score\")]\n",
    "m<-cor(num_data)\n",
    "m"
   ]
  },
  {
   "cell_type": "code",
   "execution_count": 22,
   "metadata": {
    "_kg_hide-input": true,
    "execution": {
     "iopub.execute_input": "2021-12-08T08:15:28.491259Z",
     "iopub.status.busy": "2021-12-08T08:15:28.489629Z",
     "iopub.status.idle": "2021-12-08T08:15:28.600422Z",
     "shell.execute_reply": "2021-12-08T08:15:28.599961Z"
    },
    "papermill": {
     "duration": 0.165606,
     "end_time": "2021-12-08T08:15:28.600564",
     "exception": false,
     "start_time": "2021-12-08T08:15:28.434958",
     "status": "completed"
    },
    "tags": []
   },
   "outputs": [
    {
     "data": {
      "image/png": "[encoded data removed]"
     },
     "metadata": {
      "image/png": {
       "height": 420,
       "width": 420
      }
     },
     "output_type": "display_data"
    }
   ],
   "source": [
    "corrplot(m, method=\"circle\", type='upper', tl.cex=0.8, tl.col = 'black')"
   ]
  },
  {
   "cell_type": "markdown",
   "metadata": {
    "papermill": {
     "duration": 0.053988,
     "end_time": "2021-12-08T08:15:28.708859",
     "exception": false,
     "start_time": "2021-12-08T08:15:28.654871",
     "status": "completed"
    },
    "tags": []
   },
   "source": [
    "# Regression\n",
    "\n",
    "$$math.score= -5.2230+11.8614 gender+0.9483 reading$$\n",
    "\n",
    "R-squared = 0.8122, this implies that 81.2% of the mathematics score can be explained by the variables of gender and reading test score."
   ]
  },
  {
   "cell_type": "code",
   "execution_count": 23,
   "metadata": {
    "execution": {
     "iopub.execute_input": "2021-12-08T08:15:28.820790Z",
     "iopub.status.busy": "2021-12-08T08:15:28.819251Z",
     "iopub.status.idle": "2021-12-08T08:15:28.852750Z",
     "shell.execute_reply": "2021-12-08T08:15:28.851428Z"
    },
    "papermill": {
     "duration": 0.091019,
     "end_time": "2021-12-08T08:15:28.852902",
     "exception": false,
     "start_time": "2021-12-08T08:15:28.761883",
     "status": "completed"
    },
    "tags": []
   },
   "outputs": [
    {
     "data": {
      "text/plain": [
       "\n",
       "Call:\n",
       "lm(formula = math_score ~ gender + reading_score, data = data)\n",
       "\n",
       "Residuals:\n",
       "     Min       1Q   Median       3Q      Max \n",
       "-22.7447  -4.3918  -0.0747   4.1590  18.1338 \n",
       "\n",
       "Coefficients:\n",
       "              Estimate Std. Error t value Pr(>|t|)    \n",
       "(Intercept)    -5.2230     1.1056  -4.724 2.64e-06 ***\n",
       "gendermale     11.8614     0.4292  27.634  < 2e-16 ***\n",
       "reading_score   0.9483     0.0147  64.523  < 2e-16 ***\n",
       "---\n",
       "Signif. codes:  0 ‘***’ 0.001 ‘**’ 0.01 ‘*’ 0.05 ‘.’ 0.1 ‘ ’ 1\n",
       "\n",
       "Residual standard error: 6.577 on 997 degrees of freedom\n",
       "Multiple R-squared:  0.8122,\tAdjusted R-squared:  0.8119 \n",
       "F-statistic:  2157 on 2 and 997 DF,  p-value: < 2.2e-16\n"
      ]
     },
     "metadata": {},
     "output_type": "display_data"
    }
   ],
   "source": [
    "reg1<- lm(math_score~ gender+reading_score, data=data)\n",
    "summary(reg1)"
   ]
  },
  {
   "cell_type": "markdown",
   "metadata": {
    "papermill": {
     "duration": 0.053768,
     "end_time": "2021-12-08T08:15:28.960475",
     "exception": false,
     "start_time": "2021-12-08T08:15:28.906707",
     "status": "completed"
    },
    "tags": []
   },
   "source": [
    "$$ math.score=-7.1570+11.9632 gender+1.5327 course+0.9614 reading $$\n",
    "\n",
    "R-squared = 0.8144,this implies that 81.4% of the mathematics score can be explained by the variables of gender,reading test scorea and test preparation course."
   ]
  },
  {
   "cell_type": "code",
   "execution_count": 24,
   "metadata": {
    "execution": {
     "iopub.execute_input": "2021-12-08T08:15:29.073213Z",
     "iopub.status.busy": "2021-12-08T08:15:29.071703Z",
     "iopub.status.idle": "2021-12-08T08:15:29.093799Z",
     "shell.execute_reply": "2021-12-08T08:15:29.092235Z"
    },
    "papermill": {
     "duration": 0.079803,
     "end_time": "2021-12-08T08:15:29.093950",
     "exception": false,
     "start_time": "2021-12-08T08:15:29.014147",
     "status": "completed"
    },
    "tags": []
   },
   "outputs": [
    {
     "data": {
      "text/plain": [
       "\n",
       "Call:\n",
       "lm(formula = math_score ~ gender + test_prep + reading_score, \n",
       "    data = data)\n",
       "\n",
       "Residuals:\n",
       "     Min       1Q   Median       3Q      Max \n",
       "-23.1746  -4.2620  -0.1302   4.1333  17.5549 \n",
       "\n",
       "Coefficients:\n",
       "              Estimate Std. Error t value Pr(>|t|)    \n",
       "(Intercept)    -7.1570     1.2351  -5.795 9.19e-09 ***\n",
       "gendermale     11.9632     0.4279  27.955  < 2e-16 ***\n",
       "test_prepnone   1.5327     0.4457   3.438 0.000609 ***\n",
       "reading_score   0.9614     0.0151  63.661  < 2e-16 ***\n",
       "---\n",
       "Signif. codes:  0 ‘***’ 0.001 ‘**’ 0.01 ‘*’ 0.05 ‘.’ 0.1 ‘ ’ 1\n",
       "\n",
       "Residual standard error: 6.541 on 996 degrees of freedom\n",
       "Multiple R-squared:  0.8144,\tAdjusted R-squared:  0.8139 \n",
       "F-statistic:  1457 on 3 and 996 DF,  p-value: < 2.2e-16\n"
      ]
     },
     "metadata": {},
     "output_type": "display_data"
    }
   ],
   "source": [
    "reg2<- lm(math_score~ gender+test_prep+reading_score, data=data)\n",
    "summary(reg2)"
   ]
  },
  {
   "cell_type": "markdown",
   "metadata": {
    "papermill": {
     "duration": 0.053787,
     "end_time": "2021-12-08T08:15:29.201496",
     "exception": false,
     "start_time": "2021-12-08T08:15:29.147709",
     "status": "completed"
    },
    "tags": []
   },
   "source": [
    "$$ writing.score=78.8971-9.2137 gender-9.9722 course $$\n",
    "\n",
    "R-squared = 0.1898, this implies that 19% of the writing score can be explained by the variables of gender and test preparation course."
   ]
  },
  {
   "cell_type": "code",
   "execution_count": 25,
   "metadata": {
    "execution": {
     "iopub.execute_input": "2021-12-08T08:15:29.314528Z",
     "iopub.status.busy": "2021-12-08T08:15:29.312739Z",
     "iopub.status.idle": "2021-12-08T08:15:29.343497Z",
     "shell.execute_reply": "2021-12-08T08:15:29.342032Z"
    },
    "papermill": {
     "duration": 0.088553,
     "end_time": "2021-12-08T08:15:29.343680",
     "exception": false,
     "start_time": "2021-12-08T08:15:29.255127",
     "status": "completed"
    },
    "tags": []
   },
   "outputs": [
    {
     "data": {
      "text/plain": [
       "\n",
       "Call:\n",
       "lm(formula = writing_score ~ gender + test_prep, data = data)\n",
       "\n",
       "Residuals:\n",
       "    Min      1Q  Median      3Q     Max \n",
       "-58.925  -8.711   0.317   9.296  32.289 \n",
       "\n",
       "Coefficients:\n",
       "              Estimate Std. Error t value Pr(>|t|)    \n",
       "(Intercept)    78.8971     0.8372   94.23   <2e-16 ***\n",
       "gendermale     -9.2137     0.8665  -10.63   <2e-16 ***\n",
       "test_prepnone  -9.9722     0.9031  -11.04   <2e-16 ***\n",
       "---\n",
       "Signif. codes:  0 ‘***’ 0.001 ‘**’ 0.01 ‘*’ 0.05 ‘.’ 0.1 ‘ ’ 1\n",
       "\n",
       "Residual standard error: 13.69 on 997 degrees of freedom\n",
       "Multiple R-squared:  0.1898,\tAdjusted R-squared:  0.1882 \n",
       "F-statistic: 116.8 on 2 and 997 DF,  p-value: < 2.2e-16\n"
      ]
     },
     "metadata": {},
     "output_type": "display_data"
    }
   ],
   "source": [
    "reg3<-lm(writing_score~ gender+test_prep, data=data)\n",
    "summary(reg3)"
   ]
  },
  {
   "cell_type": "code",
   "execution_count": 26,
   "metadata": {
    "_kg_hide-input": true,
    "_kg_hide-output": true,
    "execution": {
     "iopub.execute_input": "2021-12-08T08:15:29.484053Z",
     "iopub.status.busy": "2021-12-08T08:15:29.482357Z",
     "iopub.status.idle": "2021-12-08T08:15:29.494684Z",
     "shell.execute_reply": "2021-12-08T08:15:29.493356Z"
    },
    "papermill": {
     "duration": 0.096904,
     "end_time": "2021-12-08T08:15:29.494846",
     "exception": false,
     "start_time": "2021-12-08T08:15:29.397942",
     "status": "completed"
    },
    "tags": []
   },
   "outputs": [],
   "source": [
    "detach(data)"
   ]
  },
  {
   "cell_type": "markdown",
   "metadata": {
    "papermill": {
     "duration": 0.054321,
     "end_time": "2021-12-08T08:15:29.603640",
     "exception": false,
     "start_time": "2021-12-08T08:15:29.549319",
     "status": "completed"
    },
    "tags": []
   },
   "source": [
    "**Thank you for reading. If you like, please upvote notebook :)**"
   ]
  }
 ],
 "metadata": {
  "kernelspec": {
   "display_name": "R",
   "language": "R",
   "name": "ir"
  },
  "language_info": {
   "codemirror_mode": "r",
   "file_extension": ".r",
   "mimetype": "text/x-r-source",
   "name": "R",
   "pygments_lexer": "r",
   "version": "3.6.3"
  },
  "papermill": {
   "default_parameters": {},
   "duration": 14.982539,
   "end_time": "2021-12-08T08:15:29.767379",
   "environment_variables": {},
   "exception": null,
   "input_path": "__notebook__.ipynb",
   "output_path": "__notebook__.ipynb",
   "parameters": {},
   "start_time": "2021-12-08T08:15:14.784840",
   "version": "2.2.2"
  }
 },
 "nbformat": 4,
 "nbformat_minor": 4
}
